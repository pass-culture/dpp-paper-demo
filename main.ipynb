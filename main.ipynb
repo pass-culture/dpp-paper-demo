{
 "cells": [
  {
   "cell_type": "markdown",
   "metadata": {},
   "source": [
    "# Movie Recommendation Pipeline with Diversification\n",
    "\n",
    "This notebook is a simple demo for our paper \"Diversified recommendations of cultural activities with personalized determinantal point processes\". \n",
    "\n",
    "The pass Culture recommender pipeline with the DPP sampler is described in Figure 1: \n",
    "![alt text](images/pipeline_diagram.png \"Figure 1: pass Culture recommender system pipeline\")\n",
    "\n",
    "This notebook replicates the Two tower retreival model, the semantic embeddings with all-mini-L6-v2 and the DPP filter without the final ranking stage. The main goal of this notebook is to:\n",
    "- Serve as a simple demo for our paper\n",
    "- Give practioners a ready-to-use implementation of the DPP architecture in recommenders systems\n",
    "- Show the effect of DPP filtering on diversity of recommendations\n",
    "\n",
    "## Dataset:\n",
    "The original data at pass Culture contains items and the description of the items (for example: a movie and the plot of the movie, or a book and the description of the book). These descriptions are used to generate semantic embedding for the items. To mimic the pass Culture data, we use the movieLens dataset in this notebook. To get \"item descriptions\", we use [`vishnupriyavr/wiki-movie-plots-with-summaries`]( https://huggingface.co/datasets/vishnupriyavr/wiki-movie-plots-with-summaries) dataset to get movies plots which will be later embedded by [`all-mini-l6-v2`](https://huggingface.co/sentence-transformers/all-MiniLM-L6-v2). 923 movies are kept after filtering.\n",
    "\n",
    "## Steps covered in this notebook\n",
    "### \"Offline\" steps:\n",
    "- Load and preprocess movieLens movies and ratings data only keeping those that have a plot summary in the wiki-movie-plots-with-summaries dataset.\n",
    "- Compute semantic embeddings of movies plots with `all-mini-l6-v2` model.\n",
    "- Train a two-tower retrieval model following the tensorflow recommenders [tutoriel](https://www.tensorflow.org/recommenders/examples/basic_retrieval)\n",
    "- Build a vector database to store movies two-tower embeddings, used later for retrieval.\n",
    "\n",
    "### Online steps:\n",
    "- Create the DPP module through `DiversificationPipeline` class\n",
    "- Benchmark retrieval vs retrieval + DPP:\n",
    "    - For one user, retrieve 100 movies with the Two Tower retrieval model \n",
    "    - Get the top 10 recommendations with highest cosine similarity with the user (TT-reco)\n",
    "    - Sample 10 diversified movies from the 100 retrieved recommendations. (TT+DPP-reco)\n",
    "    - Plot the two sets of recommendations in a 2D plot by projecting the item embeddings with a t-SNE.\n",
    "    - Compute diversity and relevance metrics : \n",
    "        - Diversity Metrics:\n",
    "            - The volume of the recommended items is a measure of diversification. It is computed as the square root of the determinant of the matrix containing semantic embeddings of the items. The bigger the volume, the more diversified the set of items is.\n",
    "            - The business diversity metric is defined as follows: each recommendation is assigned a score based on its novelty relative to the user's historical interactions, with a maximum score of 6.5 (2.5 points for a new category, 2 points for a new venue type, 1 point for a new subcategory, and 0.5 points for a new venue or genre). It quantifies the user's increase in coverage of the catalog.\n",
    "        - Relevance metrics:\n",
    "            - the cosine similarity between user two-tower embedding and item two-tower embedding. \n",
    "            - Note: In the paper, we also computed the click rate of our users during the online A/B/C test as a relevance metric but in this demo we obviously cannot calculate it. \n"
   ]
  },
  {
   "cell_type": "code",
   "execution_count": 56,
   "metadata": {},
   "outputs": [],
   "source": [
    "## imports\n",
    "from typing import Dict, Text, List\n",
    "\n",
    "import tensorflow as tf\n",
    "import tensorflow_datasets as tfds\n",
    "import tensorflow_recommenders as tfrs\n",
    "\n",
    "from sentence_transformers import SentenceTransformer\n",
    "\n",
    "from dppy.finite_dpps import FiniteDPP\n",
    "\n",
    "import pandas as pd\n",
    "import numpy as np\n",
    "import matplotlib.pyplot as plt\n",
    "\n",
    "from sklearn.decomposition import PCA\n",
    "import os\n",
    "import random\n",
    "\n",
    "SEED = 42\n",
    "os.environ['PYTHONHASHSEED'] = str(SEED)\n",
    "random.seed(SEED)\n",
    "np.random.seed(SEED)\n",
    "tf.random.set_seed(SEED)"
   ]
  },
  {
   "cell_type": "markdown",
   "metadata": {},
   "source": [
    "# Offline steps:\n",
    "1. Step 1: load and preprocess movieLens data \n",
    "2. Step 2: compute semantic embeddings of movies plot summaries\n",
    "3. Step 3: Build and train the two tower model\n",
    "4. Step 4: Build a vector database containing the movies two-tower embeddings "
   ]
  },
  {
   "cell_type": "markdown",
   "metadata": {},
   "source": [
    "## Step 1: load and preprocess movieLens data \n",
    "- only keep movies which have a plot summary in the HF dataset\n",
    "- create a train dataset with 50k samples and a test set with about 17k samples."
   ]
  },
  {
   "cell_type": "code",
   "execution_count": 57,
   "metadata": {},
   "outputs": [],
   "source": [
    "# Load the movie plots dataset from HuggingFace \n",
    "df_movies_plots = pd.read_csv(\n",
    "    \"hf://datasets/vishnupriyavr/wiki-movie-plots-with-summaries/wiki_movie_plots_deduped_with_summaries.csv\"\n",
    ")[['Title', 'PlotSummary']]\n",
    "\n",
    "df_movies_plots.drop_duplicates(subset=['Title'], keep='last', inplace=True)\n",
    "\n",
    "download_config = tfds.download.DownloadConfig(verify_ssl = False)\n",
    "\n",
    "## Load movies and ratings dataset from TFRS\n",
    "ratings = tfds.load(\"movielens/100k-ratings\", split=\"train\", download_and_prepare_kwargs={'download_config': download_config})\n",
    "movies = tfds.load(\"movielens/100k-movies\", split=\"train\", download_and_prepare_kwargs={'download_config': download_config})\n",
    "\n",
    "\n",
    "## Filter movies and ratings dataset to keep those with plots\n",
    "ratings_list = list(ratings)  # Will work for 100k dataset\n",
    "ratings_dicts = [\n",
    "    {\n",
    "        \"user_id\": x[\"user_id\"].numpy().decode(\"utf-8\"),\n",
    "        \"movie_title\": x[\"movie_title\"].numpy().decode(\"utf-8\"),\n",
    "    }\n",
    "    for x in ratings_list\n",
    "]\n",
    "ratings_df = pd.DataFrame(ratings_dicts)\n",
    "ratings_df.movie_title = ratings_df.movie_title.map(lambda x: x.split('(')[0].strip())\n",
    "ratings_df = pd.merge(ratings_df, df_movies_plots, left_on='movie_title', right_on='Title', how='inner')[['user_id', 'movie_title']]\n",
    "ratings_ds = tf.data.Dataset.from_tensor_slices(dict(ratings_df))\n",
    "\n",
    "## Filter movies dataset\n",
    "movies_list = list(movies)  \n",
    "movies_dicts = [\n",
    "    {\n",
    "        \"movie_title\": x[\"movie_title\"].numpy().decode(\"utf-8\"),\n",
    "    }\n",
    "    for x in movies_list\n",
    "]\n",
    "movies_df = pd.DataFrame(movies_dicts)\n",
    "movies_df.movie_title = movies_df.movie_title.map(lambda x: x.split('(')[0].strip())\n",
    "movies_df = pd.merge(movies_df, df_movies_plots, left_on='movie_title', right_on='Title', how='inner')[['movie_title']]\n",
    "movies_ds = tf.data.Dataset.from_tensor_slices(dict(movies_df))\n",
    "\n",
    "\n",
    "# Prepare the ratings dataset for training\n",
    "ratings_ds = ratings_ds.map(lambda x: {\n",
    "    \"movie_title\": x[\"movie_title\"],\n",
    "    \"user_id\": x[\"user_id\"],\n",
    "})\n",
    "movies_ds = movies_ds.map(lambda x: x[\"movie_title\"])\n",
    "\n",
    "\n",
    "# Shuffle and split the data\n",
    "tf.random.set_seed(42)\n",
    "shuffled = ratings_ds.shuffle(100_000, seed=42, reshuffle_each_iteration=False)\n",
    "\n",
    "train = shuffled.take(50_000) ## After filtering rating_ds has 67,921 rows\n",
    "test = shuffled.skip(50_000).take(20_000)\n",
    "\n",
    "# Prepare unique user and movie vocabularies\n",
    "movie_titles = movies_ds.batch(1_000)\n",
    "user_ids = ratings_ds.batch(1_000_000).map(lambda x: x[\"user_id\"])\n",
    "unique_movie_titles = np.unique(np.concatenate(list(movie_titles)))\n",
    "unique_user_ids = np.unique(np.concatenate(list(user_ids)))\n",
    "\n",
    "# Filter the df_movies_plots dataframe to keep only movies that exist in movielens\n",
    "df_movies_plots = df_movies_plots[df_movies_plots.Title.isin([str(movie_name.decode(\"utf-8\")) for movie_name in unique_movie_titles])]\n"
   ]
  },
  {
   "cell_type": "markdown",
   "metadata": {},
   "source": [
    "## Step 2: compute semantic embeddings of movies plot summaries\n"
   ]
  },
  {
   "cell_type": "code",
   "execution_count": 58,
   "metadata": {},
   "outputs": [],
   "source": [
    "## Add the semantic embeddings to the df_movies_plots \n",
    "\n",
    "# Load the model\n",
    "embedding_model = SentenceTransformer('all-MiniLM-L6-v2')\n",
    "\n",
    "# Compute embeddings\n",
    "df_movies_plots['plot_semantic_embedding'] = df_movies_plots['PlotSummary'].apply(lambda x: embedding_model.encode(x, convert_to_numpy=True))\n"
   ]
  },
  {
   "cell_type": "markdown",
   "metadata": {},
   "source": [
    "## Step 3: Build and train the two tower model"
   ]
  },
  {
   "cell_type": "code",
   "execution_count": 59,
   "metadata": {},
   "outputs": [
    {
     "name": "stdout",
     "output_type": "stream",
     "text": [
      "Length train set: 50000,\n",
      "Length test set: 17921\n"
     ]
    }
   ],
   "source": [
    "## Define the Two Tower model \n",
    "embedding_dimension = 32\n",
    "\n",
    "user_model = tf.keras.Sequential([\n",
    "  tf.keras.layers.StringLookup(\n",
    "      vocabulary=unique_user_ids, mask_token=None),\n",
    "  # We add an additional embedding to account for unknown tokens.\n",
    "  tf.keras.layers.Embedding(len(unique_user_ids) + 1, embedding_dimension),\n",
    "  tf.keras.layers.UnitNormalization(axis=-1, name=\"l2_normalize\")\n",
    "])\n",
    "\n",
    "movie_model = tf.keras.Sequential([\n",
    "  tf.keras.layers.StringLookup(\n",
    "      vocabulary=unique_movie_titles, mask_token=None),\n",
    "  tf.keras.layers.Embedding(len(unique_movie_titles) + 1, embedding_dimension),\n",
    "  tf.keras.layers.UnitNormalization(axis=-1, name=\"l2_normalize\")\n",
    "])\n",
    "\n",
    "metrics = tfrs.metrics.FactorizedTopK(\n",
    "  candidates=movies_ds.batch(128).map(movie_model)\n",
    ")\n",
    "task = tfrs.tasks.Retrieval(\n",
    "  metrics=metrics\n",
    ")\n",
    "\n",
    "class MovielensModel(tfrs.Model):\n",
    "  def __init__(self, user_model, movie_model):\n",
    "    super().__init__()\n",
    "    self.movie_model: tf.keras.Model = movie_model\n",
    "    self.user_model: tf.keras.Model = user_model\n",
    "    self.task: tf.keras.layers.Layer = task\n",
    "\n",
    "  def compute_loss(self, features: Dict[Text, tf.Tensor], training=False) -> tf.Tensor:\n",
    "    # We pick out the user features and pass them into the user model.\n",
    "    user_embeddings = self.user_model(features[\"user_id\"])\n",
    "    # And pick out the movie features and pass them into the movie model,\n",
    "    # getting embeddings back.\n",
    "    positive_movie_embeddings = self.movie_model(features[\"movie_title\"])\n",
    "\n",
    "    # The task computes the loss and the metrics.\n",
    "    return self.task(user_embeddings, positive_movie_embeddings)\n",
    "  \n",
    "print(f\"Length train set: {len(train)},\\nLength test set: {len(test)}\")"
   ]
  },
  {
   "cell_type": "code",
   "execution_count": 60,
   "metadata": {},
   "outputs": [
    {
     "name": "stderr",
     "output_type": "stream",
     "text": [
      "WARNING:absl:At this time, the v2.11+ optimizer `tf.keras.optimizers.Adagrad` runs slowly on M1/M2 Macs, please use the legacy Keras optimizer instead, located at `tf.keras.optimizers.legacy.Adagrad`.\n"
     ]
    },
    {
     "name": "stdout",
     "output_type": "stream",
     "text": [
      "Epoch 1/10\n",
      "7/7 [==============================] - 2s 243ms/step - factorized_top_k/top_1_categorical_accuracy: 6.0000e-04 - factorized_top_k/top_5_categorical_accuracy: 0.0049 - factorized_top_k/top_10_categorical_accuracy: 0.0096 - factorized_top_k/top_50_categorical_accuracy: 0.0545 - factorized_top_k/top_100_categorical_accuracy: 0.1109 - loss: 56847.2156 - regularization_loss: 0.0000e+00 - total_loss: 56847.2156\n",
      "Epoch 2/10\n",
      "7/7 [==============================] - 2s 231ms/step - factorized_top_k/top_1_categorical_accuracy: 0.0043 - factorized_top_k/top_5_categorical_accuracy: 0.0291 - factorized_top_k/top_10_categorical_accuracy: 0.0571 - factorized_top_k/top_50_categorical_accuracy: 0.2135 - factorized_top_k/top_100_categorical_accuracy: 0.3441 - loss: 55744.7563 - regularization_loss: 0.0000e+00 - total_loss: 55744.7563\n",
      "Epoch 3/10\n",
      "7/7 [==============================] - 2s 233ms/step - factorized_top_k/top_1_categorical_accuracy: 0.0062 - factorized_top_k/top_5_categorical_accuracy: 0.0407 - factorized_top_k/top_10_categorical_accuracy: 0.0784 - factorized_top_k/top_50_categorical_accuracy: 0.2727 - factorized_top_k/top_100_categorical_accuracy: 0.4179 - loss: 55235.0935 - regularization_loss: 0.0000e+00 - total_loss: 55235.0935\n",
      "Epoch 4/10\n",
      "7/7 [==============================] - 2s 229ms/step - factorized_top_k/top_1_categorical_accuracy: 0.0069 - factorized_top_k/top_5_categorical_accuracy: 0.0431 - factorized_top_k/top_10_categorical_accuracy: 0.0812 - factorized_top_k/top_50_categorical_accuracy: 0.2804 - factorized_top_k/top_100_categorical_accuracy: 0.4250 - loss: 55046.4056 - regularization_loss: 0.0000e+00 - total_loss: 55046.4056\n",
      "Epoch 5/10\n",
      "7/7 [==============================] - 2s 232ms/step - factorized_top_k/top_1_categorical_accuracy: 0.0075 - factorized_top_k/top_5_categorical_accuracy: 0.0429 - factorized_top_k/top_10_categorical_accuracy: 0.0808 - factorized_top_k/top_50_categorical_accuracy: 0.2764 - factorized_top_k/top_100_categorical_accuracy: 0.4234 - loss: 54957.2743 - regularization_loss: 0.0000e+00 - total_loss: 54957.2743\n",
      "Epoch 6/10\n",
      "7/7 [==============================] - 2s 244ms/step - factorized_top_k/top_1_categorical_accuracy: 0.0069 - factorized_top_k/top_5_categorical_accuracy: 0.0429 - factorized_top_k/top_10_categorical_accuracy: 0.0796 - factorized_top_k/top_50_categorical_accuracy: 0.2712 - factorized_top_k/top_100_categorical_accuracy: 0.4206 - loss: 54907.4099 - regularization_loss: 0.0000e+00 - total_loss: 54907.4099\n",
      "Epoch 7/10\n",
      "7/7 [==============================] - 2s 233ms/step - factorized_top_k/top_1_categorical_accuracy: 0.0069 - factorized_top_k/top_5_categorical_accuracy: 0.0418 - factorized_top_k/top_10_categorical_accuracy: 0.0784 - factorized_top_k/top_50_categorical_accuracy: 0.2678 - factorized_top_k/top_100_categorical_accuracy: 0.4171 - loss: 54876.2257 - regularization_loss: 0.0000e+00 - total_loss: 54876.2257\n",
      "Epoch 8/10\n",
      "7/7 [==============================] - 2s 225ms/step - factorized_top_k/top_1_categorical_accuracy: 0.0072 - factorized_top_k/top_5_categorical_accuracy: 0.0406 - factorized_top_k/top_10_categorical_accuracy: 0.0776 - factorized_top_k/top_50_categorical_accuracy: 0.2667 - factorized_top_k/top_100_categorical_accuracy: 0.4147 - loss: 54855.1431 - regularization_loss: 0.0000e+00 - total_loss: 54855.1431\n",
      "Epoch 9/10\n",
      "7/7 [==============================] - 2s 236ms/step - factorized_top_k/top_1_categorical_accuracy: 0.0068 - factorized_top_k/top_5_categorical_accuracy: 0.0399 - factorized_top_k/top_10_categorical_accuracy: 0.0769 - factorized_top_k/top_50_categorical_accuracy: 0.2648 - factorized_top_k/top_100_categorical_accuracy: 0.4133 - loss: 54840.0378 - regularization_loss: 0.0000e+00 - total_loss: 54840.0378\n",
      "Epoch 10/10\n",
      "7/7 [==============================] - 2s 247ms/step - factorized_top_k/top_1_categorical_accuracy: 0.0064 - factorized_top_k/top_5_categorical_accuracy: 0.0395 - factorized_top_k/top_10_categorical_accuracy: 0.0757 - factorized_top_k/top_50_categorical_accuracy: 0.2632 - factorized_top_k/top_100_categorical_accuracy: 0.4122 - loss: 54828.7145 - regularization_loss: 0.0000e+00 - total_loss: 54828.7145\n",
      "5/5 [==============================] - 1s 86ms/step - factorized_top_k/top_1_categorical_accuracy: 0.0022 - factorized_top_k/top_5_categorical_accuracy: 0.0168 - factorized_top_k/top_10_categorical_accuracy: 0.0367 - factorized_top_k/top_50_categorical_accuracy: 0.1814 - factorized_top_k/top_100_categorical_accuracy: 0.3262 - loss: 25675.2178 - regularization_loss: 0.0000e+00 - total_loss: 25675.2178\n",
      "CPU times: user 1min 34s, sys: 16.4 s, total: 1min 50s\n",
      "Wall time: 18 s\n"
     ]
    },
    {
     "data": {
      "text/plain": [
       "{'factorized_top_k/top_1_categorical_accuracy': 0.00217621773481369,\n",
       " 'factorized_top_k/top_5_categorical_accuracy': 0.016795936971902847,\n",
       " 'factorized_top_k/top_10_categorical_accuracy': 0.03671669960021973,\n",
       " 'factorized_top_k/top_50_categorical_accuracy': 0.18140728771686554,\n",
       " 'factorized_top_k/top_100_categorical_accuracy': 0.32620948553085327,\n",
       " 'loss': 10892.6396484375,\n",
       " 'regularization_loss': 0,\n",
       " 'total_loss': 10892.6396484375}"
      ]
     },
     "execution_count": 60,
     "metadata": {},
     "output_type": "execute_result"
    }
   ],
   "source": [
    "%%time\n",
    "## Train the model\n",
    "model = MovielensModel(user_model, movie_model)\n",
    "model.compile(optimizer=tf.keras.optimizers.Adagrad(learning_rate=0.1))\n",
    "\n",
    "cached_train = train.shuffle(100_000, seed=42).batch(8192).cache()\n",
    "cached_test = test.batch(4096).cache()\n",
    "\n",
    "model.fit(cached_train, epochs=10)\n",
    "\n",
    "model.evaluate(cached_test, return_dict=True)"
   ]
  },
  {
   "cell_type": "code",
   "execution_count": 61,
   "metadata": {},
   "outputs": [
    {
     "data": {
      "text/plain": [
       "TensorShape([1, 939])"
      ]
     },
     "execution_count": 61,
     "metadata": {},
     "output_type": "execute_result"
    }
   ],
   "source": [
    "user_embeds = model.user_model(tf.constant([\"189\"]))\n",
    "item_embeds = next(movies_ds.batch(1000).map(model.movie_model).as_numpy_iterator())\n",
    "(user_embeds @ item_embeds.T).shape"
   ]
  },
  {
   "cell_type": "code",
   "execution_count": 62,
   "metadata": {},
   "outputs": [
    {
     "data": {
      "text/plain": [
       "array([[0.91897935, 0.88293535, 0.8802029 , 0.8769908 , 0.8674989 ,\n",
       "        0.8650286 , 0.8634217 , 0.8597163 , 0.8566981 , 0.8446093 ]],\n",
       "      dtype=float32)"
      ]
     },
     "execution_count": 62,
     "metadata": {},
     "output_type": "execute_result"
    }
   ],
   "source": [
    "pred = (user_embeds @ item_embeds.T)\n",
    "preds = pred.numpy()\n",
    "preds.sort(axis=1)\n",
    "preds[:, -10:][:, ::-1]"
   ]
  },
  {
   "cell_type": "code",
   "execution_count": 63,
   "metadata": {},
   "outputs": [
    {
     "data": {
      "text/plain": [
       "(1.0, 0.99999994)"
      ]
     },
     "execution_count": 63,
     "metadata": {},
     "output_type": "execute_result"
    }
   ],
   "source": [
    "# verify that user and movie two-tower embeddings are normalized\n",
    "np.linalg.norm(model.user_model(unique_user_ids)[0]),  np.linalg.norm(model.movie_model(unique_movie_titles)[0])"
   ]
  },
  {
   "cell_type": "markdown",
   "metadata": {},
   "source": [
    "## Step 4: Build a vector database containing the movies two-tower embeddings \n",
    "The vector database is built with lancedb and servers to retrieve closest movies to a user given the user two tower embedding."
   ]
  },
  {
   "cell_type": "code",
   "execution_count": 64,
   "metadata": {},
   "outputs": [
    {
     "name": "stdout",
     "output_type": "stream",
     "text": [
      "Top 10 recommendations for user 14: \n",
      "\n",
      "Movie name, score: \n",
      "Big Night,  0.8341492\n",
      "Mighty Aphrodite,  0.73568815\n",
      "Lone Star,  0.7333306\n",
      "Fargo,  0.7307024\n",
      "Secrets & Lies,  0.7214512\n",
      "Breaking the Waves,  0.6991305\n",
      "Withnail and I,  0.6656347\n",
      "Sense and Sensibility,  0.66275907\n",
      "Annie Hall,  0.641955\n",
      "Richard III,  0.63815695\n"
     ]
    }
   ],
   "source": [
    "# Create a model that takes in raw query features, and\n",
    "index = tfrs.layers.factorized_top_k.BruteForce(model.user_model, k=100)\n",
    "# recommends movies out of the entire movies dataset.\n",
    "index.index_from_dataset(\n",
    "  tf.data.Dataset.zip((movies_ds.batch(1000), movies_ds.batch(1000).map(model.movie_model)))\n",
    ")\n",
    "df_movies_plots\n",
    "\n",
    "# Get recommendations.\n",
    "user_id=\"14\"\n",
    "scores, titles = index(tf.constant([user_id] * 100))  # Get top 100 movies for user_id\n",
    "\n",
    "# Display first 10 movie recommendation\n",
    "displayed = '\\n'.join([title.decode(\"utf-8\") +\",  \"+str(score) for title, score in zip(titles[0, :10].numpy() , scores[0, :10].numpy())])\n",
    "print(f\"Top 10 recommendations for user {user_id}: \\n\\nMovie name, score: \\n{displayed}\")"
   ]
  },
  {
   "cell_type": "code",
   "execution_count": 65,
   "metadata": {},
   "outputs": [
    {
     "data": {
      "text/plain": [
       "<tf.Variable 'candidates:0' shape=(939, 32) dtype=float32, numpy=\n",
       "array([[ 0.04544711,  0.28784332,  0.16655965, ..., -0.19696894,\n",
       "        -0.12018612, -0.26273096],\n",
       "       [-0.18914753,  0.00293339, -0.03486469, ..., -0.24234803,\n",
       "         0.10984291,  0.00659631],\n",
       "       [ 0.14664713,  0.09501591,  0.04913579, ...,  0.19017462,\n",
       "        -0.1744158 , -0.05574868],\n",
       "       ...,\n",
       "       [ 0.01748728,  0.339592  ,  0.19120698, ...,  0.03494373,\n",
       "        -0.1006736 , -0.10636622],\n",
       "       [ 0.01607035,  0.14412378, -0.00688511, ..., -0.20487016,\n",
       "         0.1468877 , -0.11188289],\n",
       "       [-0.12066887,  0.25480038,  0.06272226, ..., -0.21847253,\n",
       "        -0.1133001 , -0.2710535 ]], dtype=float32)>"
      ]
     },
     "execution_count": 65,
     "metadata": {},
     "output_type": "execute_result"
    }
   ],
   "source": [
    "index.variables[2]"
   ]
  },
  {
   "cell_type": "markdown",
   "metadata": {},
   "source": [
    "# Online steps: \n",
    "1. Step 5: build DPP module\n",
    "2. Step 6: Get/Predict top and diversified recommentions for a given user\n",
    "3. Step 7: Apply a PCA to visualize recommendations in 2D\n",
    "4. Step 8: Get/Predict top and diversified recommentions for a given user without quality score"
   ]
  },
  {
   "cell_type": "markdown",
   "metadata": {},
   "source": [
    "## Step 5: build DPP module"
   ]
  },
  {
   "cell_type": "code",
   "execution_count": 66,
   "metadata": {},
   "outputs": [],
   "source": [
    "class DiversificationPipeline:\n",
    "    def __init__(self, item_semantic_embeddings: List, ids: List, scores: List, _lambda=1) -> None:\n",
    "        self.item_semantic_embeddings = np.array(\n",
    "            item_semantic_embeddings, dtype=np.float64\n",
    "        )\n",
    "        self.item_ids = ids\n",
    "        self.scores = np.array(scores, dtype=np.float64) ## scores are relevance qi score from TT\n",
    "        self._lambda = _lambda\n",
    "\n",
    "    @staticmethod\n",
    "    def _get_dpp_samples(vectors: np.ndarray, K_DPP: int) -> List:\n",
    "        diversification_matrix = vectors.dot(vectors.T)\n",
    "        dpp_model = FiniteDPP(\"likelihood\", **{\"L\": diversification_matrix})\n",
    "        return dpp_model.sample_exact_k_dpp(size=K_DPP, random_state=42)\n",
    "\n",
    "    def get_sampled_ids(self, K_DPP: int) -> List:\n",
    "        # Calculate weighted embeddings and normalize in a single step\n",
    "        # return sampled item ids list and the list of relevance scores of the sampled items\n",
    "        weighted_embeddings = (\n",
    "            (self.scores[:, np.newaxis] ** self._lambda) * self.item_semantic_embeddings\n",
    "        )\n",
    "\n",
    "        # Apply DPP sampling\n",
    "        sampled_indices = self._get_dpp_samples(\n",
    "            vectors=weighted_embeddings, K_DPP=K_DPP\n",
    "        )\n",
    "\n",
    "        return [self.item_ids[i] for i in sampled_indices], [self.scores[i] for i in sampled_indices]"
   ]
  },
  {
   "cell_type": "markdown",
   "metadata": {},
   "source": [
    "## Step 6: Get/Predict top and diversified recommendations for a given user"
   ]
  },
  {
   "cell_type": "code",
   "execution_count": 67,
   "metadata": {},
   "outputs": [],
   "source": [
    "\n",
    "def get_ordered_semantic_embedding(movie_names):\n",
    "    \"\"\"\n",
    "    Returns numpy array of the semantic embeddings of the movies names given in argument. It preserves the same order as the order of the argument\n",
    "    \"\"\"\n",
    "    return np.array([\n",
    "                    df_movies_plots.loc[df_movies_plots['Title'] == title.decode(\"utf-8\"), 'plot_semantic_embedding'].values[0]\n",
    "                    for title in movie_names\n",
    "                ])\n",
    "    \n",
    "def retrieval(k, user_ids, user_embedding_dict, _lambda=1):\n",
    "    \"\"\"\n",
    "    This function:\n",
    "    - retrieves 100 items from two tower model for each user \n",
    "    - For each user:\n",
    "        - get semantic embedding of it s top-100 retrieved items \n",
    "        - Samples 10 diversified items among the 100 retrieved using DPP sampler\n",
    "    \n",
    "    --Arguments--\n",
    "        k: number of items to be retrieved from the DPP model\n",
    "        user_ids: list of user ids \n",
    "        user_embedding_dict: dictionnary with {user_id: two tower user embedding}\n",
    "        _lambda = 1 : the lambda parameter which powers the relevance quality score in the DPP kernel\n",
    "    \n",
    "    --Returns--\n",
    "        movies_names_top_k[:, :k].numpy() : top k movies names retrieved from two tower model\n",
    "        quality_scores_top_k[:, :k].numpy() : quality scores of the top k movies retrieved from two tower model\n",
    "        np.row_stack(all_results_k_diversified) : top k movies names sampled with DPP\n",
    "        np.row_stack(all_scores_div) : quality scores of the top k movies sampled with DPP\n",
    "    \"\"\"\n",
    "    \n",
    "    # Search for top 100 most similar movies using cosine similarity\n",
    "    # the movies dataset contains 923 so we set the retrieval to 100 so its an upper bound for all results\n",
    "    quality_scores_top_k, movies_names_top_k = index(tf.constant(user_ids), k=100) # retrieve 100 items for each user in user_id\n",
    "    \n",
    "    \n",
    "    all_results_k_dpp, all_scores_dpp = [], []\n",
    "    for i in range(len(user_ids)):\n",
    "        \n",
    "        ordered_semantic_embeddings = get_ordered_semantic_embedding(movies_names_top_k[i].numpy())\n",
    "                                    \n",
    "        results_k_dpp, scores_dpp = DiversificationPipeline(\n",
    "                                                item_semantic_embeddings=ordered_semantic_embeddings,\n",
    "                                                ids=movies_names_top_k[i].numpy(),\n",
    "                                                scores=quality_scores_top_k[i].numpy(),\n",
    "                                                _lambda=_lambda\n",
    "                                            ).get_sampled_ids(K_DPP=k)\n",
    "        all_results_k_dpp.append(results_k_dpp)\n",
    "        all_scores_dpp.append(scores_dpp)\n",
    "    return movies_names_top_k[:, :k].numpy(), quality_scores_top_k[:, :k].numpy(), np.row_stack(all_results_k_dpp), np.row_stack(all_scores_dpp)"
   ]
  },
  {
   "cell_type": "code",
   "execution_count": 68,
   "metadata": {},
   "outputs": [
    {
     "name": "stderr",
     "output_type": "stream",
     "text": [
      "/var/folders/dw/nz0r7_t973z5_j607rfp9cvh0000gp/T/ipykernel_61889/575293976.py:12: RuntimeWarning: invalid value encountered in sqrt\n",
      "  volume_top_k = np.nan_to_num(np.linalg.det(X_top_k @ np.transpose(X_top_k, (0, 2, 1))) ** 0.5, 0.).mean()\n",
      "/var/folders/dw/nz0r7_t973z5_j607rfp9cvh0000gp/T/ipykernel_61889/575293976.py:23: FutureWarning: Setting an item of incompatible dtype is deprecated and will raise an error in a future version of pandas. Value '0.7121325791974863' has dtype incompatible with float32, please explicitly cast to a compatible dtype first.\n",
      "  displayed_results.loc['Model B (dpp lambda=1)', 'Relevance'] = scores_dpp_lambda_1.mean()\n"
     ]
    },
    {
     "data": {
      "text/html": [
       "<div>\n",
       "<style scoped>\n",
       "    .dataframe tbody tr th:only-of-type {\n",
       "        vertical-align: middle;\n",
       "    }\n",
       "\n",
       "    .dataframe tbody tr th {\n",
       "        vertical-align: top;\n",
       "    }\n",
       "\n",
       "    .dataframe thead th {\n",
       "        text-align: right;\n",
       "    }\n",
       "</style>\n",
       "<table border=\"1\" class=\"dataframe\">\n",
       "  <thead>\n",
       "    <tr style=\"text-align: right;\">\n",
       "      <th></th>\n",
       "      <th>Relevance</th>\n",
       "      <th>Volume</th>\n",
       "      <th>Volume Ratio</th>\n",
       "    </tr>\n",
       "  </thead>\n",
       "  <tbody>\n",
       "    <tr>\n",
       "      <th>Model A (top K)</th>\n",
       "      <td>0.812417</td>\n",
       "      <td>0.208101</td>\n",
       "      <td>1.000000</td>\n",
       "    </tr>\n",
       "    <tr>\n",
       "      <th>Model B (dpp lambda=1)</th>\n",
       "      <td>0.712133</td>\n",
       "      <td>0.322347</td>\n",
       "      <td>1.548991</td>\n",
       "    </tr>\n",
       "    <tr>\n",
       "      <th>Model C (dpp lambda=0)</th>\n",
       "      <td>0.689914</td>\n",
       "      <td>0.317910</td>\n",
       "      <td>1.527668</td>\n",
       "    </tr>\n",
       "  </tbody>\n",
       "</table>\n",
       "</div>"
      ],
      "text/plain": [
       "                        Relevance    Volume  Volume Ratio\n",
       "Model A (top K)          0.812417  0.208101      1.000000\n",
       "Model B (dpp lambda=1)   0.712133  0.322347      1.548991\n",
       "Model C (dpp lambda=0)   0.689914  0.317910      1.527668"
      ]
     },
     "metadata": {},
     "output_type": "display_data"
    }
   ],
   "source": [
    "users_list = user_model.layers[0].get_vocabulary()\n",
    "users_weights = user_model.layers[1].get_weights()[0].astype(np.float32)\n",
    "user_embedding_dict = {x: y for x, y in zip(users_list, users_weights)}\n",
    "user_ids = np.random.choice(users_list, 100) # sample 100 random users\n",
    "\n",
    "\n",
    "results_top_k, scores_top_k, results_k_dpp_lambda_1, scores_dpp_lambda_1 =  retrieval(15, user_ids, user_embedding_dict, _lambda=1)\n",
    "results_top_k, scores_top_k, results_k_dpp_lambda_0, scores_dpp_lambda_0 =  retrieval(15, user_ids, user_embedding_dict, _lambda=0)\n",
    "\n",
    "# Compute volumes\n",
    "X_top_k = np.stack([get_ordered_semantic_embedding(results_top_k[i]) for i in range(results_top_k.shape[0])])\n",
    "volume_top_k = np.nan_to_num(np.linalg.det(X_top_k @ np.transpose(X_top_k, (0, 2, 1))) ** 0.5, 0.).mean()\n",
    "\n",
    "X_dpp_lambda_1 = np.stack([get_ordered_semantic_embedding(results_k_dpp_lambda_1[i]) for i in range(results_k_dpp_lambda_1.shape[0])])\n",
    "volume_dpp_lambda_1 = np.nan_to_num(np.linalg.det(X_dpp_lambda_1 @ np.transpose(X_dpp_lambda_1, (0, 2, 1))) ** 0.5, 0.).mean()\n",
    "\n",
    "X_dpp_lambda_0 = np.stack([get_ordered_semantic_embedding(results_k_dpp_lambda_0[i]) for i in range(results_k_dpp_lambda_0.shape[0])])\n",
    "volume_dpp_lambda_0 = np.nan_to_num(np.linalg.det(X_dpp_lambda_0 @ np.transpose(X_dpp_lambda_0, (0, 2, 1))) ** 0.5, 0.).mean()\n",
    "\n",
    "# put metrics in a dataframe \n",
    "displayed_results = pd.DataFrame()\n",
    "displayed_results.loc['Model A (top K)', 'Relevance'] = scores_top_k.mean()\n",
    "displayed_results.loc['Model B (dpp lambda=1)', 'Relevance'] = scores_dpp_lambda_1.mean()\n",
    "displayed_results.loc['Model C (dpp lambda=0)', 'Relevance'] = scores_dpp_lambda_0.mean()\n",
    "\n",
    "displayed_results.loc['Model A (top K)', 'Volume'] = volume_top_k\n",
    "displayed_results.loc['Model B (dpp lambda=1)', 'Volume'] = volume_dpp_lambda_1\n",
    "displayed_results.loc['Model C (dpp lambda=0)', 'Volume'] = volume_dpp_lambda_0\n",
    "\n",
    "displayed_results.loc['Model A (top K)', 'Volume Ratio'] = volume_top_k / volume_top_k\n",
    "displayed_results.loc['Model B (dpp lambda=1)', 'Volume Ratio'] = volume_dpp_lambda_1 / volume_top_k\n",
    "displayed_results.loc['Model C (dpp lambda=0)', 'Volume Ratio'] = volume_dpp_lambda_0 / volume_top_k\n",
    "\n",
    "display(displayed_results)"
   ]
  },
  {
   "cell_type": "code",
   "execution_count": 69,
   "metadata": {},
   "outputs": [
    {
     "data": {
      "text/plain": [
       "0.0"
      ]
     },
     "execution_count": 69,
     "metadata": {},
     "output_type": "execute_result"
    }
   ],
   "source": [
    "# Volume of all items in the semantic space\n",
    "A = np.array(df_movies_plots.plot_semantic_embedding.tolist())\n",
    "np.nan_to_num(np.linalg.det(A @ np.transpose(A)) ** 0.5, 0.).mean()"
   ]
  },
  {
   "cell_type": "code",
   "execution_count": 70,
   "metadata": {},
   "outputs": [
    {
     "name": "stderr",
     "output_type": "stream",
     "text": [
      "100%|██████████| 10/10 [00:18<00:00,  1.82s/it]\n"
     ]
    },
    {
     "data": {
      "text/html": [
       "<div>\n",
       "<style scoped>\n",
       "    .dataframe tbody tr th:only-of-type {\n",
       "        vertical-align: middle;\n",
       "    }\n",
       "\n",
       "    .dataframe tbody tr th {\n",
       "        vertical-align: top;\n",
       "    }\n",
       "\n",
       "    .dataframe thead th {\n",
       "        text-align: right;\n",
       "    }\n",
       "</style>\n",
       "<table border=\"1\" class=\"dataframe\">\n",
       "  <thead>\n",
       "    <tr style=\"text-align: right;\">\n",
       "      <th></th>\n",
       "      <th>Relevance</th>\n",
       "      <th>Volume</th>\n",
       "      <th>Volume ratio</th>\n",
       "    </tr>\n",
       "  </thead>\n",
       "  <tbody>\n",
       "    <tr>\n",
       "      <th>$\\lambda = 0.0$</th>\n",
       "      <td>0.687734</td>\n",
       "      <td>0.551344</td>\n",
       "      <td>2.649404</td>\n",
       "    </tr>\n",
       "    <tr>\n",
       "      <th>$\\lambda = 0.2$</th>\n",
       "      <td>0.691652</td>\n",
       "      <td>0.557969</td>\n",
       "      <td>2.681239</td>\n",
       "    </tr>\n",
       "    <tr>\n",
       "      <th>$\\lambda = 0.4$</th>\n",
       "      <td>0.697106</td>\n",
       "      <td>0.560081</td>\n",
       "      <td>2.691387</td>\n",
       "    </tr>\n",
       "    <tr>\n",
       "      <th>$\\lambda = 0.7$</th>\n",
       "      <td>0.704246</td>\n",
       "      <td>0.561217</td>\n",
       "      <td>2.696848</td>\n",
       "    </tr>\n",
       "    <tr>\n",
       "      <th>$\\lambda = 0.9$</th>\n",
       "      <td>0.711475</td>\n",
       "      <td>0.562345</td>\n",
       "      <td>2.702268</td>\n",
       "    </tr>\n",
       "    <tr>\n",
       "      <th>$\\lambda = 1.1$</th>\n",
       "      <td>0.716815</td>\n",
       "      <td>0.569022</td>\n",
       "      <td>2.734350</td>\n",
       "    </tr>\n",
       "    <tr>\n",
       "      <th>$\\lambda = 1.3$</th>\n",
       "      <td>0.721576</td>\n",
       "      <td>0.555687</td>\n",
       "      <td>2.670274</td>\n",
       "    </tr>\n",
       "    <tr>\n",
       "      <th>$\\lambda = 1.6$</th>\n",
       "      <td>0.726151</td>\n",
       "      <td>0.569589</td>\n",
       "      <td>2.737078</td>\n",
       "    </tr>\n",
       "    <tr>\n",
       "      <th>$\\lambda = 1.8$</th>\n",
       "      <td>0.727916</td>\n",
       "      <td>0.563765</td>\n",
       "      <td>2.709092</td>\n",
       "    </tr>\n",
       "    <tr>\n",
       "      <th>$\\lambda = 2.0$</th>\n",
       "      <td>0.729671</td>\n",
       "      <td>0.545022</td>\n",
       "      <td>2.619026</td>\n",
       "    </tr>\n",
       "  </tbody>\n",
       "</table>\n",
       "</div>"
      ],
      "text/plain": [
       "                 Relevance    Volume  Volume ratio\n",
       "$\\lambda = 0.0$   0.687734  0.551344      2.649404\n",
       "$\\lambda = 0.2$   0.691652  0.557969      2.681239\n",
       "$\\lambda = 0.4$   0.697106  0.560081      2.691387\n",
       "$\\lambda = 0.7$   0.704246  0.561217      2.696848\n",
       "$\\lambda = 0.9$   0.711475  0.562345      2.702268\n",
       "$\\lambda = 1.1$   0.716815  0.569022      2.734350\n",
       "$\\lambda = 1.3$   0.721576  0.555687      2.670274\n",
       "$\\lambda = 1.6$   0.726151  0.569589      2.737078\n",
       "$\\lambda = 1.8$   0.727916  0.563765      2.709092\n",
       "$\\lambda = 2.0$   0.729671  0.545022      2.619026"
      ]
     },
     "execution_count": 70,
     "metadata": {},
     "output_type": "execute_result"
    }
   ],
   "source": [
    "from tqdm import tqdm\n",
    "displayed_results = pd.DataFrame()\n",
    "\n",
    "for LAMBDA in tqdm(np.linspace(0, 2, 10)):\n",
    "    MODEL_NAME = f'  $\\lambda = {round(LAMBDA, 1)}$' \n",
    "    \n",
    "    results_top_k, scores_top_k, results_k_diversified, scores_div =  retrieval(10, user_ids, user_embedding_dict, _lambda=LAMBDA)\n",
    "    if LAMBDA == 0.:\n",
    "        results_k_diversified_no_qi, scores_div_no_qi = results_k_diversified, scores_div\n",
    "    displayed_results.loc[MODEL_NAME, 'Relevance'] = scores_div.mean()\n",
    "    \n",
    "    X_diversified = np.stack([get_ordered_semantic_embedding(results_k_diversified[i]) for i in range(results_k_diversified.shape[0])])\n",
    "    volume_diversified = np.nan_to_num((np.linalg.det(X_diversified @ np.transpose(X_diversified, (0, 2, 1))) ** 0.5), 0.).mean()\n",
    "    displayed_results.loc[MODEL_NAME, 'Volume'] = volume_diversified\n",
    "    \n",
    "displayed_results['Volume ratio'] = displayed_results['Volume'] / volume_top_k\n",
    "displayed_results"
   ]
  },
  {
   "cell_type": "markdown",
   "metadata": {},
   "source": [
    "For recall, $\\lambda = 0$ corresponds to all $q_i = 1$, while $\\lambda = 1$ corresponds to personalized $q_i$ using relevance."
   ]
  },
  {
   "cell_type": "code",
   "execution_count": 71,
   "metadata": {},
   "outputs": [
    {
     "name": "stderr",
     "output_type": "stream",
     "text": [
      "/var/folders/dw/nz0r7_t973z5_j607rfp9cvh0000gp/T/ipykernel_61889/59967595.py:8: FutureWarning: Series.__getitem__ treating keys as positions is deprecated. In a future version, integer keys will always be treated as labels (consistent with DataFrame behavior). To access a value by position, use `ser.iloc[pos]`\n",
      "  ax.annotate(txt, (x[i], y[i]))\n"
     ]
    },
    {
     "data": {
      "image/png": "[encoded data removed]",
      "text/plain": [
       "<Figure size 640x480 with 1 Axes>"
      ]
     },
     "metadata": {},
     "output_type": "display_data"
    }
   ],
   "source": [
    "fig, ax = plt.subplots()\n",
    "models, x, y = displayed_results.index, displayed_results['Volume'], displayed_results['Relevance']\n",
    "ax.scatter(x, y)\n",
    "plt.xlabel(\"Volume\")\n",
    "plt.ylabel(\"Relevance\")\n",
    "\n",
    "for i, txt in enumerate(models):\n",
    "    ax.annotate(txt, (x[i], y[i]))"
   ]
  },
  {
   "cell_type": "code",
   "execution_count": 72,
   "metadata": {},
   "outputs": [
    {
     "name": "stderr",
     "output_type": "stream",
     "text": [
      "/var/folders/dw/nz0r7_t973z5_j607rfp9cvh0000gp/T/ipykernel_61889/521252095.py:8: FutureWarning: Series.__getitem__ treating keys as positions is deprecated. In a future version, integer keys will always be treated as labels (consistent with DataFrame behavior). To access a value by position, use `ser.iloc[pos]`\n",
      "  ax.annotate(txt, (x[i], y[i]))\n"
     ]
    },
    {
     "data": {
      "image/png": "[encoded data removed]",
      "text/plain": [
       "<Figure size 640x480 with 1 Axes>"
      ]
     },
     "metadata": {},
     "output_type": "display_data"
    }
   ],
   "source": [
    "fig, ax = plt.subplots()\n",
    "models, x, y = displayed_results.index, displayed_results['Volume ratio'], displayed_results['Relevance']\n",
    "ax.scatter(x, y)\n",
    "plt.xlabel(\"Volume ratio\")\n",
    "plt.ylabel(\"Relevance\")\n",
    "\n",
    "for i, txt in enumerate(models):\n",
    "    ax.annotate(txt, (x[i], y[i]))"
   ]
  },
  {
   "cell_type": "markdown",
   "metadata": {},
   "source": [
    "## Step 7: Apply a T-SNE to visualize recommendations in 2D"
   ]
  },
  {
   "cell_type": "code",
   "execution_count": 73,
   "metadata": {},
   "outputs": [
    {
     "name": "stdout",
     "output_type": "stream",
     "text": [
      "CPU times: user 12.9 s, sys: 2.94 s, total: 15.9 s\n",
      "Wall time: 2.17 s\n"
     ]
    }
   ],
   "source": [
    "%%time\n",
    "from sklearn.manifold import TSNE\n",
    "\n",
    "# Apply a tSNE on all semantic embeddings\n",
    "movies_names_list = df_movies_plots['Title'].to_list()\n",
    "movies_plots_list = df_movies_plots['plot_semantic_embedding'].to_list()\n",
    "X = np.array(movies_plots_list)\n",
    "tsne = TSNE(n_components=2)\n",
    "X_2d = tsne.fit_transform(X)"
   ]
  },
  {
   "cell_type": "code",
   "execution_count": 74,
   "metadata": {},
   "outputs": [],
   "source": [
    "\n",
    "\n",
    "def plot_two_sets_of_recos(results_top_k, results_k_diversified, results_k_diversified_no_qi, X_2d):\n",
    "\n",
    "    fig = plt.figure(figsize=(8, 6))\n",
    "\n",
    "    # Create index mapping\n",
    "    top_k_indices = [movies_names_list.index(movie_name.decode('utf-8')) for movie_name in results_top_k]\n",
    "    diversified_k_indices = [movies_names_list.index(movie_name.decode('utf-8')) for movie_name in results_k_diversified]\n",
    "    diversified_no_qi_indices = [movies_names_list.index(movie_name.decode('utf-8')) for movie_name in results_k_diversified_no_qi]\n",
    "\n",
    "    # Track how many times each index is used\n",
    "    from collections import defaultdict\n",
    "    index_to_sets = defaultdict(list)\n",
    "    for idx in top_k_indices:\n",
    "        index_to_sets[idx].append(\"top_k\")\n",
    "    for idx in diversified_k_indices:\n",
    "        index_to_sets[idx].append(\"diversified\")\n",
    "    for idx in diversified_no_qi_indices:\n",
    "        index_to_sets[idx].append(\"no_qi\")\n",
    "\n",
    "    # Define colors and offsets for each set\n",
    "    set_styles = {\n",
    "        \"top_k\": {\"color\": \"red\", \"label\": \"top $k$ recommendations\", \"offset\": (-0.7, -0.7)},\n",
    "        \"diversified\": {\"color\": \"blue\", \"label\": \"diversified $\\lambda = 3$ recommendations\", \"offset\": (0, 0)},\n",
    "        \"no_qi\": {\"color\": \"forestgreen\", \"label\": \"diversified $\\lambda = 0$ recommendations\", \"offset\": (0.7, 0.7)},\n",
    "    }\n",
    "\n",
    "    # Keep track of what labels have been plotted already (to avoid duplicates in legend)\n",
    "    plotted_labels = set()\n",
    "\n",
    "    for idx, sets in index_to_sets.items():\n",
    "        base_x, base_y = X_2d[idx]\n",
    "\n",
    "        for s in sets:\n",
    "            dx, dy = set_styles[s][\"offset\"]\n",
    "            label = set_styles[s][\"label\"]\n",
    "            color = set_styles[s][\"color\"]\n",
    "            show_label = label if label not in plotted_labels else None\n",
    "\n",
    "            plt.scatter(base_x + dx, base_y + dy, color=color, label=show_label, marker='.', s=200)\n",
    "            if show_label:\n",
    "                plotted_labels.add(label)\n",
    "\n",
    "    plt.title(\"Movie Embeddings ($t$-SNE 2D)\")\n",
    "    plt.xlabel(\"$t$-SNE axis 1\")\n",
    "    plt.ylabel(\"$t$-SNE axis 2\")\n",
    "    fig.legend(loc='outside right lower')\n",
    "    plt.grid(True)\n",
    "    plt.show()\n"
   ]
  },
  {
   "cell_type": "code",
   "execution_count": 75,
   "metadata": {},
   "outputs": [
    {
     "data": {
      "image/png": "[encoded data removed]",
      "text/plain": [
       "<Figure size 800x600 with 1 Axes>"
      ]
     },
     "metadata": {},
     "output_type": "display_data"
    }
   ],
   "source": [
    "plot_two_sets_of_recos(results_top_k[0], results_k_dpp_lambda_1[0], results_k_dpp_lambda_0[0], X_2d)"
   ]
  },
  {
   "cell_type": "markdown",
   "metadata": {},
   "source": [
    "# Remarks: \n",
    "- The two tower retrieval model is a dummy model. It does not necessarily perform well especially considering the 'factorized_top_k/top_*_categorical_accuracy'. This means that even the top-10 closest movies can be already diverse.\n",
    "- With our data at pass culture, we observe a high impact of DPP sampling on diversity metrics. We typically have a factor of 12x or 15x gain in volume after samping with DPPs. Our business diversification metric also increased by at least 12%.\n"
   ]
  }
 ],
 "metadata": {
  "kernelspec": {
   "display_name": ".venv",
   "language": "python",
   "name": "python3"
  },
  "language_info": {
   "codemirror_mode": {
    "name": "ipython",
    "version": 3
   },
   "file_extension": ".py",
   "mimetype": "text/x-python",
   "name": "python",
   "nbconvert_exporter": "python",
   "pygments_lexer": "ipython3",
   "version": "3.10.15"
  }
 },
 "nbformat": 4,
 "nbformat_minor": 4
}
