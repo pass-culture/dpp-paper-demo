{
 "cells": [
  {
   "cell_type": "markdown",
   "metadata": {},
   "source": [
    "# Movie Recommendation Pipeline with Diversification\n",
    "\n",
    "This notebook serves as a simple demo for the pass Culture recommender pipeline. The original pipeline is described in the figure 1: \n",
    "![alt text](images/pipeline_diagram.png \"Figure 1: pass Culture recommender system pipeline\")\n",
    "\n",
    "This notebook only replicates the Two tower retreival model, the semantic embeddings with all-mini-L6-v2 and the DPP filter. The main goal of this notebook is to:\n",
    "- Serve as a simple demo for our paper\n",
    "- Give practioners a ready-to-use notebook to test DPP architecture in recommenders systems\n",
    "- Show the effect of DPP filtering on diversity of recommendations\n",
    "\n",
    "## Dataset:\n",
    "The original data at pass culture contains items and the description of the items (for example: a movie and the plot of the movie, or a book and the description of the book). These descriptions are used to generate semantic embedding for the items. To mimic the pass culture, we use the movieLens dataset in this notebook. To get \"item descriptions\", we use [`vishnupriyavr/wiki-movie-plots-with-summaries`]( https://huggingface.co/datasets/vishnupriyavr/wiki-movie-plots-with-summaries) dataset to get movies plots which will be later embedded by [`all-mini-l6-v2`](https://huggingface.co/sentence-transformers/all-MiniLM-L6-v2). 923 movies are kept after filtering.\n",
    "\n",
    "## Steps covered in this notebook\n",
    "### \"Offline\" steps:\n",
    "- Load and preprocess movieLens movies and ratings data only keeping those that have a plot summary in the wiki-movie-plots-with-summaries dataset.\n",
    "- Compute semantic embeddings of movies plots with `all-mini-l6-v2`.\n",
    "- Train a two-tower retrieval model following the tensorflow recommenders [tutoriel](https://www.tensorflow.org/recommenders/examples/basic_retrieval)\n",
    "- Build a vector database to store movies two-tower embeddings, used later for retrieval.\n",
    "\n",
    "### Online steps:\n",
    "- Create the DPP module through `DiversificationPipeline` class\n",
    "- Benchmark retrieval vs retrieval + DPP:\n",
    "    - For one user, retrieve 100 movies with the Two Tower retrieval model \n",
    "    - Get the top 10 recommendations with highest cosine similarity with the user (TT-reco)\n",
    "    - Sample 10 diversified movies from the 100 retrieved recommendations. (TT+DPP-reco)\n",
    "    - Plot the two sets of recommendations in a 2D plot by projecting the item embeddings with a PCA.\n",
    "    - Compute volume metric : The volume of the recommended items is a measure of diversification. It is computed as the square root of the determinant of the matrix containing semantic embeddings of the items. The bigger the volume, the more diversified the set of items is.\n"
   ]
  },
  {
   "cell_type": "code",
   "execution_count": 1,
   "metadata": {},
   "outputs": [],
   "source": [
    "## imports\n",
    "from typing import Dict, Text, List\n",
    "\n",
    "import tensorflow as tf\n",
    "import tensorflow_datasets as tfds\n",
    "import tensorflow_recommenders as tfrs\n",
    "\n",
    "from sentence_transformers import SentenceTransformer\n",
    "\n",
    "from dppy.finite_dpps import FiniteDPP\n",
    "\n",
    "import pandas as pd\n",
    "import numpy as np\n",
    "import matplotlib.pyplot as plt\n",
    "\n",
    "from sklearn.decomposition import PCA\n",
    "import os\n",
    "import random\n",
    "\n",
    "SEED = 42\n",
    "os.environ['PYTHONHASHSEED'] = str(SEED)\n",
    "random.seed(SEED)\n",
    "np.random.seed(SEED)\n",
    "tf.random.set_seed(SEED)"
   ]
  },
  {
   "cell_type": "markdown",
   "metadata": {},
   "source": [
    "# Offline steps:\n",
    "1. Step 1: load and preprocess movieLens data \n",
    "2. Step 2: compute semantic embeddings of movies plot summaries\n",
    "3. Step 3: Build and train the two tower model\n",
    "4. Step 4: Build a vector database containing the movies two-tower embeddings "
   ]
  },
  {
   "cell_type": "markdown",
   "metadata": {},
   "source": [
    "## Step 1: load and preprocess movieLens data \n",
    "- only keep movies which have a plot summary\n",
    "- create a train dataset with 50k samples and a test set with about 16k samples."
   ]
  },
  {
   "cell_type": "code",
   "execution_count": 2,
   "metadata": {},
   "outputs": [
    {
     "name": "stdout",
     "output_type": "stream",
     "text": [
      "WARNING:tensorflow:AutoGraph could not transform <function <lambda> at 0x177e0a7a0> and will run it as-is.\n",
      "Cause: could not parse the source code of <function <lambda> at 0x177e0a7a0>: no matching AST found among candidates:\n",
      "\n",
      "To silence this warning, decorate the function with @tf.autograph.experimental.do_not_convert\n"
     ]
    },
    {
     "name": "stderr",
     "output_type": "stream",
     "text": [
      "WARNING:tensorflow:AutoGraph could not transform <function <lambda> at 0x177e0a7a0> and will run it as-is.\n",
      "Cause: could not parse the source code of <function <lambda> at 0x177e0a7a0>: no matching AST found among candidates:\n",
      "\n",
      "To silence this warning, decorate the function with @tf.autograph.experimental.do_not_convert\n"
     ]
    },
    {
     "name": "stdout",
     "output_type": "stream",
     "text": [
      "WARNING: AutoGraph could not transform <function <lambda> at 0x177e0a7a0> and will run it as-is.\n",
      "Cause: could not parse the source code of <function <lambda> at 0x177e0a7a0>: no matching AST found among candidates:\n",
      "\n",
      "To silence this warning, decorate the function with @tf.autograph.experimental.do_not_convert\n",
      "WARNING:tensorflow:AutoGraph could not transform <function <lambda> at 0x177e0a560> and will run it as-is.\n",
      "Cause: could not parse the source code of <function <lambda> at 0x177e0a560>: no matching AST found among candidates:\n",
      "\n",
      "To silence this warning, decorate the function with @tf.autograph.experimental.do_not_convert\n"
     ]
    },
    {
     "name": "stderr",
     "output_type": "stream",
     "text": [
      "WARNING:tensorflow:AutoGraph could not transform <function <lambda> at 0x177e0a560> and will run it as-is.\n",
      "Cause: could not parse the source code of <function <lambda> at 0x177e0a560>: no matching AST found among candidates:\n",
      "\n",
      "To silence this warning, decorate the function with @tf.autograph.experimental.do_not_convert\n"
     ]
    },
    {
     "name": "stdout",
     "output_type": "stream",
     "text": [
      "WARNING: AutoGraph could not transform <function <lambda> at 0x177e0a560> and will run it as-is.\n",
      "Cause: could not parse the source code of <function <lambda> at 0x177e0a560>: no matching AST found among candidates:\n",
      "\n",
      "To silence this warning, decorate the function with @tf.autograph.experimental.do_not_convert\n",
      "WARNING:tensorflow:AutoGraph could not transform <function <lambda> at 0x177e0b010> and will run it as-is.\n",
      "Cause: could not parse the source code of <function <lambda> at 0x177e0b010>: no matching AST found among candidates:\n",
      "\n",
      "To silence this warning, decorate the function with @tf.autograph.experimental.do_not_convert\n"
     ]
    },
    {
     "name": "stderr",
     "output_type": "stream",
     "text": [
      "WARNING:tensorflow:AutoGraph could not transform <function <lambda> at 0x177e0b010> and will run it as-is.\n",
      "Cause: could not parse the source code of <function <lambda> at 0x177e0b010>: no matching AST found among candidates:\n",
      "\n",
      "To silence this warning, decorate the function with @tf.autograph.experimental.do_not_convert\n"
     ]
    },
    {
     "name": "stdout",
     "output_type": "stream",
     "text": [
      "WARNING: AutoGraph could not transform <function <lambda> at 0x177e0b010> and will run it as-is.\n",
      "Cause: could not parse the source code of <function <lambda> at 0x177e0b010>: no matching AST found among candidates:\n",
      "\n",
      "To silence this warning, decorate the function with @tf.autograph.experimental.do_not_convert\n",
      "CPU times: user 15.9 s, sys: 2.14 s, total: 18 s\n",
      "Wall time: 20.4 s\n"
     ]
    }
   ],
   "source": [
    "%%time\n",
    "# Load the movie plots dataset from HuggingFace \n",
    "df_movies_plots = pd.read_csv(\n",
    "    \"hf://datasets/vishnupriyavr/wiki-movie-plots-with-summaries/wiki_movie_plots_deduped_with_summaries.csv\"\n",
    ")[['Title', 'PlotSummary']]\n",
    "\n",
    "df_movies_plots.drop_duplicates(subset=['Title'], keep='last', inplace=True)\n",
    "\n",
    "download_config = tfds.download.DownloadConfig(verify_ssl = False)\n",
    "\n",
    "## Load movies and ratings dataset from TFRS\n",
    "ratings = tfds.load(\"movielens/100k-ratings\", split=\"train\", download_and_prepare_kwargs={'download_config': download_config})\n",
    "movies = tfds.load(\"movielens/100k-movies\", split=\"train\", download_and_prepare_kwargs={'download_config': download_config})\n",
    "\n",
    "\n",
    "## Filter movies and ratings dataset to keep those with plots\n",
    "ratings_list = list(ratings)  # Will work for 100k dataset\n",
    "ratings_dicts = [\n",
    "    {\n",
    "        \"user_id\": x[\"user_id\"].numpy().decode(\"utf-8\"),\n",
    "        \"movie_title\": x[\"movie_title\"].numpy().decode(\"utf-8\"),\n",
    "    }\n",
    "    for x in ratings_list\n",
    "]\n",
    "ratings_df = pd.DataFrame(ratings_dicts)\n",
    "ratings_df.movie_title = ratings_df.movie_title.map(lambda x: x.split('(')[0].strip())\n",
    "ratings_df = pd.merge(ratings_df, df_movies_plots, left_on='movie_title', right_on='Title', how='inner')[['user_id', 'movie_title']]\n",
    "ratings_ds = tf.data.Dataset.from_tensor_slices(dict(ratings_df))\n",
    "\n",
    "## Filter movies dataset\n",
    "movies_list = list(movies)  \n",
    "movies_dicts = [\n",
    "    {\n",
    "        \"movie_title\": x[\"movie_title\"].numpy().decode(\"utf-8\"),\n",
    "    }\n",
    "    for x in movies_list\n",
    "]\n",
    "movies_df = pd.DataFrame(movies_dicts)\n",
    "movies_df.movie_title = movies_df.movie_title.map(lambda x: x.split('(')[0].strip())\n",
    "movies_df = pd.merge(movies_df, df_movies_plots, left_on='movie_title', right_on='Title', how='inner')[['movie_title']]\n",
    "movies_ds = tf.data.Dataset.from_tensor_slices(dict(movies_df))\n",
    "\n",
    "\n",
    "# Prepare the ratings dataset for training\n",
    "ratings_ds = ratings_ds.map(lambda x: {\n",
    "    \"movie_title\": x[\"movie_title\"],\n",
    "    \"user_id\": x[\"user_id\"],\n",
    "})\n",
    "movies_ds = movies_ds.map(lambda x: x[\"movie_title\"])\n",
    "\n",
    "\n",
    "# Shuffle and split the data\n",
    "tf.random.set_seed(42)\n",
    "shuffled = ratings_ds.shuffle(100_000, seed=42, reshuffle_each_iteration=False)\n",
    "\n",
    "train = shuffled.take(50_000) ## After filtering rating_ds has 67,921 rows\n",
    "test = shuffled.skip(50_000).take(20_000)\n",
    "\n",
    "# Prepare unique user and movie vocabularies\n",
    "movie_titles = movies_ds.batch(1_000)\n",
    "user_ids = ratings_ds.batch(1_000_000).map(lambda x: x[\"user_id\"])\n",
    "unique_movie_titles = np.unique(np.concatenate(list(movie_titles)))\n",
    "unique_user_ids = np.unique(np.concatenate(list(user_ids)))\n",
    "\n",
    "# Filter the df_movies_plots dataframe to keep only movies that exist in movielens\n",
    "df_movies_plots = df_movies_plots[df_movies_plots.Title.isin([str(movie_name.decode(\"utf-8\")) for movie_name in unique_movie_titles])]\n"
   ]
  },
  {
   "cell_type": "markdown",
   "metadata": {},
   "source": [
    "users_list = user_model.layers[0].get_vocabulary()\n",
    "users_weights = user_model.layers[1].get_weights()[0].astype(np.float32)\n",
    "user_embedding_dict = {x: y for x, y in zip(users_list, users_weights)}\n",
    "user_id = users_list[100] # the 101th user_id \n",
    "\n",
    "results_top_k, scores_top_k, results_k_diversified, scores_div =  retrieval(10, user_id, user_embedding_dict, use_qi=True)\n",
    "results_top_k, results_k_diversified"
   ]
  },
  {
   "cell_type": "markdown",
   "metadata": {},
   "source": [
    "## Step 2: compute semantic embeddings of movies plot summaries\n"
   ]
  },
  {
   "cell_type": "code",
   "execution_count": 3,
   "metadata": {},
   "outputs": [
    {
     "name": "stdout",
     "output_type": "stream",
     "text": [
      "CPU times: user 10.8 s, sys: 1.7 s, total: 12.5 s\n",
      "Wall time: 16.2 s\n"
     ]
    }
   ],
   "source": [
    "%%time\n",
    "## Add the semantic embeddings to the df_movies_plots \n",
    "\n",
    "# Load the model\n",
    "model = SentenceTransformer('all-MiniLM-L6-v2')\n",
    "\n",
    "# Compute embeddings\n",
    "df_movies_plots['plot_semantic_embedding'] = df_movies_plots['PlotSummary'].apply(lambda x: model.encode(x, convert_to_numpy=True))\n"
   ]
  },
  {
   "cell_type": "markdown",
   "metadata": {},
   "source": [
    "## Step 3: Build and train the two tower model"
   ]
  },
  {
   "cell_type": "code",
   "execution_count": 4,
   "metadata": {},
   "outputs": [
    {
     "name": "stdout",
     "output_type": "stream",
     "text": [
      "CPU times: user 42.5 ms, sys: 31.2 ms, total: 73.8 ms\n",
      "Wall time: 93.1 ms\n"
     ]
    }
   ],
   "source": [
    "%%time\n",
    "## Define the Two Tower model \n",
    "embedding_dimension = 32\n",
    "\n",
    "user_model = tf.keras.Sequential([\n",
    "  tf.keras.layers.StringLookup(\n",
    "      vocabulary=unique_user_ids, mask_token=None),\n",
    "  # We add an additional embedding to account for unknown tokens.\n",
    "  tf.keras.layers.Embedding(len(unique_user_ids) + 1, embedding_dimension)\n",
    "])\n",
    "\n",
    "movie_model = tf.keras.Sequential([\n",
    "  tf.keras.layers.StringLookup(\n",
    "      vocabulary=unique_movie_titles, mask_token=None),\n",
    "  tf.keras.layers.Embedding(len(unique_movie_titles) + 1, embedding_dimension)\n",
    "])\n",
    "\n",
    "metrics = tfrs.metrics.FactorizedTopK(\n",
    "  candidates=movies_ds.batch(128).map(movie_model)\n",
    ")\n",
    "\n",
    "task = tfrs.tasks.Retrieval(\n",
    "  metrics=metrics\n",
    ")\n",
    "\n",
    "class MovielensModel(tfrs.Model):\n",
    "  def __init__(self, user_model, movie_model):\n",
    "    super().__init__()\n",
    "    self.movie_model: tf.keras.Model = movie_model\n",
    "    self.user_model: tf.keras.Model = user_model\n",
    "    self.task: tf.keras.layers.Layer = task\n",
    "\n",
    "  def compute_loss(self, features: Dict[Text, tf.Tensor], training=False) -> tf.Tensor:\n",
    "    # We pick out the user features and pass them into the user model.\n",
    "    user_embeddings = self.user_model(features[\"user_id\"])\n",
    "    # And pick out the movie features and pass them into the movie model,\n",
    "    # getting embeddings back.\n",
    "    positive_movie_embeddings = self.movie_model(features[\"movie_title\"])\n",
    "\n",
    "    # The task computes the loss and the metrics.\n",
    "    return self.task(user_embeddings, positive_movie_embeddings)"
   ]
  },
  {
   "cell_type": "code",
   "execution_count": 5,
   "metadata": {},
   "outputs": [
    {
     "data": {
      "text/plain": [
       "50000"
      ]
     },
     "execution_count": 5,
     "metadata": {},
     "output_type": "execute_result"
    }
   ],
   "source": [
    "len(train)"
   ]
  },
  {
   "cell_type": "code",
   "execution_count": 6,
   "metadata": {},
   "outputs": [
    {
     "data": {
      "text/plain": [
       "17921"
      ]
     },
     "execution_count": 6,
     "metadata": {},
     "output_type": "execute_result"
    }
   ],
   "source": [
    "len(test)"
   ]
  },
  {
   "cell_type": "code",
   "execution_count": 7,
   "metadata": {},
   "outputs": [
    {
     "name": "stderr",
     "output_type": "stream",
     "text": [
      "WARNING:absl:At this time, the v2.11+ optimizer `tf.keras.optimizers.Adagrad` runs slowly on M1/M2 Macs, please use the legacy Keras optimizer instead, located at `tf.keras.optimizers.legacy.Adagrad`.\n"
     ]
    },
    {
     "name": "stdout",
     "output_type": "stream",
     "text": [
      "Epoch 1/10\n",
      "7/7 [==============================] - 3s 256ms/step - factorized_top_k/top_1_categorical_accuracy: 0.0015 - factorized_top_k/top_5_categorical_accuracy: 0.0102 - factorized_top_k/top_10_categorical_accuracy: 0.0229 - factorized_top_k/top_50_categorical_accuracy: 0.1118 - factorized_top_k/top_100_categorical_accuracy: 0.1953 - loss: 56680.9497 - regularization_loss: 0.0000e+00 - total_loss: 56680.9497\n",
      "Epoch 2/10\n",
      "7/7 [==============================] - 2s 237ms/step - factorized_top_k/top_1_categorical_accuracy: 0.0045 - factorized_top_k/top_5_categorical_accuracy: 0.0292 - factorized_top_k/top_10_categorical_accuracy: 0.0587 - factorized_top_k/top_50_categorical_accuracy: 0.2387 - factorized_top_k/top_100_categorical_accuracy: 0.3893 - loss: 55125.7568 - regularization_loss: 0.0000e+00 - total_loss: 55125.7568\n",
      "Epoch 3/10\n",
      "7/7 [==============================] - 2s 241ms/step - factorized_top_k/top_1_categorical_accuracy: 0.0061 - factorized_top_k/top_5_categorical_accuracy: 0.0368 - factorized_top_k/top_10_categorical_accuracy: 0.0704 - factorized_top_k/top_50_categorical_accuracy: 0.2650 - factorized_top_k/top_100_categorical_accuracy: 0.4256 - loss: 53871.5739 - regularization_loss: 0.0000e+00 - total_loss: 53871.5739\n",
      "Epoch 4/10\n",
      "7/7 [==============================] - 2s 240ms/step - factorized_top_k/top_1_categorical_accuracy: 0.0067 - factorized_top_k/top_5_categorical_accuracy: 0.0425 - factorized_top_k/top_10_categorical_accuracy: 0.0809 - factorized_top_k/top_50_categorical_accuracy: 0.2894 - factorized_top_k/top_100_categorical_accuracy: 0.4523 - loss: 53144.5170 - regularization_loss: 0.0000e+00 - total_loss: 53144.5170\n",
      "Epoch 5/10\n",
      "7/7 [==============================] - 2s 237ms/step - factorized_top_k/top_1_categorical_accuracy: 0.0077 - factorized_top_k/top_5_categorical_accuracy: 0.0464 - factorized_top_k/top_10_categorical_accuracy: 0.0881 - factorized_top_k/top_50_categorical_accuracy: 0.3090 - factorized_top_k/top_100_categorical_accuracy: 0.4706 - loss: 52631.7651 - regularization_loss: 0.0000e+00 - total_loss: 52631.7651\n",
      "Epoch 6/10\n",
      "7/7 [==============================] - 2s 249ms/step - factorized_top_k/top_1_categorical_accuracy: 0.0083 - factorized_top_k/top_5_categorical_accuracy: 0.0491 - factorized_top_k/top_10_categorical_accuracy: 0.0943 - factorized_top_k/top_50_categorical_accuracy: 0.3235 - factorized_top_k/top_100_categorical_accuracy: 0.4860 - loss: 52239.8328 - regularization_loss: 0.0000e+00 - total_loss: 52239.8328\n",
      "Epoch 7/10\n",
      "7/7 [==============================] - 2s 235ms/step - factorized_top_k/top_1_categorical_accuracy: 0.0086 - factorized_top_k/top_5_categorical_accuracy: 0.0525 - factorized_top_k/top_10_categorical_accuracy: 0.0989 - factorized_top_k/top_50_categorical_accuracy: 0.3335 - factorized_top_k/top_100_categorical_accuracy: 0.4989 - loss: 51928.3689 - regularization_loss: 0.0000e+00 - total_loss: 51928.3689\n",
      "Epoch 8/10\n",
      "7/7 [==============================] - 2s 240ms/step - factorized_top_k/top_1_categorical_accuracy: 0.0084 - factorized_top_k/top_5_categorical_accuracy: 0.0544 - factorized_top_k/top_10_categorical_accuracy: 0.1039 - factorized_top_k/top_50_categorical_accuracy: 0.3425 - factorized_top_k/top_100_categorical_accuracy: 0.5082 - loss: 51675.4197 - regularization_loss: 0.0000e+00 - total_loss: 51675.4197\n",
      "Epoch 9/10\n",
      "7/7 [==============================] - 2s 240ms/step - factorized_top_k/top_1_categorical_accuracy: 0.0092 - factorized_top_k/top_5_categorical_accuracy: 0.0564 - factorized_top_k/top_10_categorical_accuracy: 0.1068 - factorized_top_k/top_50_categorical_accuracy: 0.3490 - factorized_top_k/top_100_categorical_accuracy: 0.5150 - loss: 51466.8402 - regularization_loss: 0.0000e+00 - total_loss: 51466.8402\n",
      "Epoch 10/10\n",
      "7/7 [==============================] - 2s 243ms/step - factorized_top_k/top_1_categorical_accuracy: 0.0093 - factorized_top_k/top_5_categorical_accuracy: 0.0584 - factorized_top_k/top_10_categorical_accuracy: 0.1103 - factorized_top_k/top_50_categorical_accuracy: 0.3554 - factorized_top_k/top_100_categorical_accuracy: 0.5215 - loss: 51292.6323 - regularization_loss: 0.0000e+00 - total_loss: 51292.6323\n",
      "5/5 [==============================] - 1s 87ms/step - factorized_top_k/top_1_categorical_accuracy: 1.1160e-04 - factorized_top_k/top_5_categorical_accuracy: 0.0040 - factorized_top_k/top_10_categorical_accuracy: 0.0133 - factorized_top_k/top_50_categorical_accuracy: 0.1223 - factorized_top_k/top_100_categorical_accuracy: 0.2638 - loss: 26102.2093 - regularization_loss: 0.0000e+00 - total_loss: 26102.2093\n",
      "CPU times: user 1min 46s, sys: 20 s, total: 2min 6s\n",
      "Wall time: 18.9 s\n"
     ]
    },
    {
     "data": {
      "text/plain": [
       "{'factorized_top_k/top_1_categorical_accuracy': 0.00011160091526107863,\n",
       " 'factorized_top_k/top_5_categorical_accuracy': 0.004017632920295,\n",
       " 'factorized_top_k/top_10_categorical_accuracy': 0.013280509039759636,\n",
       " 'factorized_top_k/top_50_categorical_accuracy': 0.12225880473852158,\n",
       " 'factorized_top_k/top_100_categorical_accuracy': 0.2637687623500824,\n",
       " 'loss': 11093.8701171875,\n",
       " 'regularization_loss': 0,\n",
       " 'total_loss': 11093.8701171875}"
      ]
     },
     "execution_count": 7,
     "metadata": {},
     "output_type": "execute_result"
    }
   ],
   "source": [
    "%%time\n",
    "## Train the model\n",
    "model = MovielensModel(user_model, movie_model)\n",
    "model.compile(optimizer=tf.keras.optimizers.Adagrad(learning_rate=0.1))\n",
    "\n",
    "cached_train = train.shuffle(100_000, seed=42).batch(8192).cache()\n",
    "cached_test = test.batch(4096).cache()\n",
    "\n",
    "model.fit(cached_train, epochs=10)\n",
    "\n",
    "model.evaluate(cached_test, return_dict=True)"
   ]
  },
  {
   "cell_type": "code",
   "execution_count": 8,
   "metadata": {},
   "outputs": [
    {
     "name": "stdout",
     "output_type": "stream",
     "text": [
      "5/5 [==============================] - 0s 88ms/step - factorized_top_k/top_1_categorical_accuracy: 1.1160e-04 - factorized_top_k/top_5_categorical_accuracy: 0.0040 - factorized_top_k/top_10_categorical_accuracy: 0.0133 - factorized_top_k/top_50_categorical_accuracy: 0.1223 - factorized_top_k/top_100_categorical_accuracy: 0.2638 - loss: 26102.2093 - regularization_loss: 0.0000e+00 - total_loss: 26102.2093\n"
     ]
    },
    {
     "data": {
      "text/plain": [
       "[0.00011160091526107863,\n",
       " 0.004017632920295,\n",
       " 0.013280509039759636,\n",
       " 0.12225880473852158,\n",
       " 0.2637687623500824,\n",
       " 11093.8701171875,\n",
       " 0,\n",
       " 11093.8701171875]"
      ]
     },
     "execution_count": 8,
     "metadata": {},
     "output_type": "execute_result"
    }
   ],
   "source": [
    "model.evaluate(cached_test)"
   ]
  },
  {
   "cell_type": "code",
   "execution_count": 9,
   "metadata": {},
   "outputs": [
    {
     "data": {
      "text/plain": [
       "TensorShape([2, 939])"
      ]
     },
     "execution_count": 9,
     "metadata": {},
     "output_type": "execute_result"
    }
   ],
   "source": [
    "user_embeds = model.user_model(tf.constant([\"189\", \"0\"]))\n",
    "item_embeds = next(movies_ds.batch(1000).map(model.movie_model).as_numpy_iterator())\n",
    "(user_embeds @ item_embeds.T).shape"
   ]
  },
  {
   "cell_type": "code",
   "execution_count": 10,
   "metadata": {},
   "outputs": [
    {
     "data": {
      "text/plain": [
       "array([[3.7766848 , 3.6930637 , 3.6250591 , 3.4525003 , 3.4204435 ,\n",
       "        3.3869164 , 3.2466118 , 3.2166057 , 3.2024646 , 3.1906188 ],\n",
       "       [0.20578775, 0.19496359, 0.19462687, 0.18484567, 0.1831544 ,\n",
       "        0.17701963, 0.17397882, 0.16761985, 0.16757232, 0.16591999]],\n",
       "      dtype=float32)"
      ]
     },
     "execution_count": 10,
     "metadata": {},
     "output_type": "execute_result"
    }
   ],
   "source": [
    "pred = (user_embeds @ item_embeds.T)\n",
    "preds = pred.numpy()\n",
    "preds.sort(axis=1)\n",
    "preds[:, -10:][:, ::-1]"
   ]
  },
  {
   "cell_type": "markdown",
   "metadata": {},
   "source": [
    "## Step 4: Build a vector database containing the movies two-tower embeddings \n",
    "The vector database is built with lancedb and servers to retrieve closest movies to a user given the user two tower embedding."
   ]
  },
  {
   "cell_type": "code",
   "execution_count": 11,
   "metadata": {},
   "outputs": [
    {
     "name": "stdout",
     "output_type": "stream",
     "text": [
      "Recommendations for user 0: b'Judgment Night'\n",
      "b'Three Wishes'\n",
      "b'Dangerous Minds'\n",
      "b'Blues Brothers 2000'\n",
      "b'Threesome'\n",
      "b'House Party 3'\n",
      "b'North'\n",
      "b'Billy Madison'\n",
      "b'Higher Learning'\n",
      "b'Canadian Bacon'\n",
      "tf.Tensor([0.20578775 0.19496359 0.19462687 0.18484567 0.1831544 ], shape=(5,), dtype=float32)\n"
     ]
    }
   ],
   "source": [
    "# Create a model that takes in raw query features, and\n",
    "index = tfrs.layers.factorized_top_k.BruteForce(model.user_model, k=100)\n",
    "# recommends movies out of the entire movies dataset.\n",
    "index.index_from_dataset(\n",
    "  tf.data.Dataset.zip((movies_ds.batch(1000), movies_ds.batch(1000).map(model.movie_model)))\n",
    ")\n",
    "\n",
    "# Get recommendations.\n",
    "scores, titles = index(tf.constant([\"0\"] * 100))  # Can't believe this is needed to fix the shape of the placeholder\n",
    "displayed = '\\n'.join(map(str, titles[0, :10].numpy()))\n",
    "print(f\"Recommendations for user 0: {displayed}\")\n",
    "print(scores[0][:5])"
   ]
  },
  {
   "cell_type": "markdown",
   "metadata": {},
   "source": [
    "# Online steps: \n",
    "1. Step 5: build DPP module\n",
    "2. Step 6: Get/Predict top and diversified recommentions for a given user\n",
    "3. Step 7: Apply a PCA to visualize recommendations in 2D\n",
    "4. Step 8: Get/Predict top and diversified recommentions for a given user without quality score"
   ]
  },
  {
   "cell_type": "markdown",
   "metadata": {},
   "source": [
    "## Step 5: build DPP module"
   ]
  },
  {
   "cell_type": "code",
   "execution_count": 12,
   "metadata": {},
   "outputs": [],
   "source": [
    "class DiversificationPipeline:\n",
    "    def __init__(self, item_semantic_embeddings: List, ids: List, scores: List, _lambda=1) -> None:\n",
    "        self.item_semantic_embeddings = np.array(\n",
    "            item_semantic_embeddings, dtype=np.float64\n",
    "        )\n",
    "        self.item_ids = ids\n",
    "        self.scores = np.array(scores, dtype=np.float64) ## scores are relevance qi score from TT\n",
    "        self._lambda = _lambda\n",
    "\n",
    "    @staticmethod\n",
    "    def _get_dpp_samples(vectors: np.ndarray, K_DPP: int) -> List:\n",
    "        diversification_matrix = vectors.dot(vectors.T)\n",
    "        dpp_model = FiniteDPP(\"likelihood\", **{\"L\": diversification_matrix})\n",
    "        return dpp_model.sample_exact_k_dpp(size=K_DPP, random_state=42)\n",
    "\n",
    "    def get_sampled_ids(self, K_DPP: int) -> List:\n",
    "        # Calculate weighted embeddings and normalize in a single step\n",
    "        weighted_embeddings = (\n",
    "            (self.scores[:, np.newaxis] ** self._lambda) * self.item_semantic_embeddings\n",
    "        )\n",
    "\n",
    "        # Apply DPP sampling\n",
    "        sampled_indices = self._get_dpp_samples(\n",
    "            vectors=weighted_embeddings, K_DPP=K_DPP\n",
    "        )\n",
    "\n",
    "        return [self.item_ids[i] for i in sampled_indices], [self.scores[i] for i in sampled_indices]"
   ]
  },
  {
   "cell_type": "markdown",
   "metadata": {},
   "source": [
    "## Step 6: Get/Predict top and diversified recommendations for a given user"
   ]
  },
  {
   "cell_type": "code",
   "execution_count": 13,
   "metadata": {},
   "outputs": [],
   "source": [
    "\n",
    "def retrieval(k, user_ids, user_embedding_dict, _lambda=1):\n",
    "    # Search for top 100 most similar movies using cosine similarity\n",
    "    # the movies dataset contains 923 so we set the retrieval to 100 so its an upper bound for all results\n",
    "\n",
    "    scores_top_k, results_top_k = index(tf.constant(user_ids))\n",
    "    item_embeddings = model.movie_model(titles)\n",
    "    \n",
    "    ## Get k diversified recommendations\n",
    "    # retrieved_movies = results.to_dict(orient='records')\n",
    "    all_results_k_diversified, all_scores_div = [], []\n",
    "    for i in range(len(user_ids)):\n",
    "        results_k_diversified, scores_div = DiversificationPipeline(\n",
    "                                                item_semantic_embeddings=item_embeddings[i].numpy(),\n",
    "                                                ids=results_top_k[i].numpy(),\n",
    "                                                scores=scores_top_k[i].numpy(),\n",
    "                                                _lambda=_lambda\n",
    "                                            ).get_sampled_ids(K_DPP=k)\n",
    "        all_results_k_diversified.append(results_k_diversified)\n",
    "        all_scores_div.append(scores_div)\n",
    "    return results_top_k[:, :10].numpy(), scores_top_k[:, :10].numpy(), np.row_stack(all_results_k_diversified), np.row_stack(all_scores_div)"
   ]
  },
  {
   "cell_type": "code",
   "execution_count": 14,
   "metadata": {},
   "outputs": [],
   "source": [
    "displayed_results = pd.DataFrame()"
   ]
  },
  {
   "cell_type": "code",
   "execution_count": 15,
   "metadata": {},
   "outputs": [
    {
     "name": "stderr",
     "output_type": "stream",
     "text": [
      "/var/folders/ls/jgpjcks17pv3zwg4g8937w3h0000gp/T/ipykernel_49314/3227071817.py:11: RuntimeWarning: invalid value encountered in sqrt\n",
      "  volume_top_k = np.nan_to_num(np.linalg.det(X_top_k @ np.transpose(X_top_k, (0, 2, 1))) ** 0.5, 0.).mean()\n"
     ]
    }
   ],
   "source": [
    "users_list = user_model.layers[0].get_vocabulary()\n",
    "users_weights = user_model.layers[1].get_weights()[0].astype(np.float32)\n",
    "user_embedding_dict = {x: y for x, y in zip(users_list, users_weights)}\n",
    "user_ids = np.random.choice(users_list, 100) # the 101th user_id \n",
    "\n",
    "results_top_k, scores_top_k, results_k_diversified, scores_div =  retrieval(10, user_ids, user_embedding_dict, _lambda=1)\n",
    "results_top_k, results_k_diversified\n",
    "displayed_results.loc['Model A (top $K$)', 'Relevance'] = scores_top_k.mean()\n",
    "\n",
    "X_top_k = model.movie_model(results_top_k).numpy()\n",
    "volume_top_k = np.nan_to_num(np.linalg.det(X_top_k @ np.transpose(X_top_k, (0, 2, 1))) ** 0.5, 0.).mean()\n",
    "displayed_results.loc['Model A (top $K$)', 'Volume'] = volume_top_k"
   ]
  },
  {
   "cell_type": "code",
   "execution_count": 16,
   "metadata": {},
   "outputs": [
    {
     "name": "stderr",
     "output_type": "stream",
     "text": [
      "  0%|                                                           | 0/10 [00:00<?, ?it/s]/var/folders/ls/jgpjcks17pv3zwg4g8937w3h0000gp/T/ipykernel_49314/380565841.py:9: FutureWarning: Setting an item of incompatible dtype is deprecated and will raise an error in a future version of pandas. Value '2.9491485728025437' has dtype incompatible with float32, please explicitly cast to a compatible dtype first.\n",
      "  displayed_results.loc[MODEL_NAME, 'Relevance'] = scores_div.mean()\n",
      " 30%|███████████████▎                                   | 3/10 [00:00<00:00,  7.37it/s]/var/folders/ls/jgpjcks17pv3zwg4g8937w3h0000gp/T/ipykernel_49314/380565841.py:12: RuntimeWarning: invalid value encountered in sqrt\n",
      "  volume_diversified = np.nan_to_num((np.linalg.det(X_diversified @ np.transpose(X_diversified, (0, 2, 1))) ** 0.5), 0.).mean()\n",
      " 40%|████████████████████▍                              | 4/10 [00:00<00:00,  7.42it/s]/var/folders/ls/jgpjcks17pv3zwg4g8937w3h0000gp/T/ipykernel_49314/380565841.py:12: RuntimeWarning: invalid value encountered in sqrt\n",
      "  volume_diversified = np.nan_to_num((np.linalg.det(X_diversified @ np.transpose(X_diversified, (0, 2, 1))) ** 0.5), 0.).mean()\n",
      " 60%|██████████████████████████████▌                    | 6/10 [00:00<00:00,  7.41it/s]/var/folders/ls/jgpjcks17pv3zwg4g8937w3h0000gp/T/ipykernel_49314/380565841.py:12: RuntimeWarning: invalid value encountered in sqrt\n",
      "  volume_diversified = np.nan_to_num((np.linalg.det(X_diversified @ np.transpose(X_diversified, (0, 2, 1))) ** 0.5), 0.).mean()\n",
      " 80%|████████████████████████████████████████▊          | 8/10 [00:01<00:00,  7.44it/s]/var/folders/ls/jgpjcks17pv3zwg4g8937w3h0000gp/T/ipykernel_49314/380565841.py:12: RuntimeWarning: invalid value encountered in sqrt\n",
      "  volume_diversified = np.nan_to_num((np.linalg.det(X_diversified @ np.transpose(X_diversified, (0, 2, 1))) ** 0.5), 0.).mean()\n",
      " 90%|█████████████████████████████████████████████▉     | 9/10 [00:01<00:00,  7.45it/s]/var/folders/ls/jgpjcks17pv3zwg4g8937w3h0000gp/T/ipykernel_49314/380565841.py:12: RuntimeWarning: invalid value encountered in sqrt\n",
      "  volume_diversified = np.nan_to_num((np.linalg.det(X_diversified @ np.transpose(X_diversified, (0, 2, 1))) ** 0.5), 0.).mean()\n",
      "100%|██████████████████████████████████████████████████| 10/10 [00:01<00:00,  7.42it/s]\n"
     ]
    }
   ],
   "source": [
    "from tqdm import tqdm\n",
    "\n",
    "for LAMBDA in tqdm(np.linspace(0, 3, 10)):\n",
    "    MODEL_NAME = f'Model ($\\lambda = {LAMBDA}$)'\n",
    "    \n",
    "    results_top_k, scores_top_k, results_k_diversified, scores_div =  retrieval(10, user_ids, user_embedding_dict, _lambda=LAMBDA)\n",
    "    if LAMBDA == 0.:\n",
    "        results_k_diversified_no_qi, scores_div_no_qi = results_k_diversified, scores_div\n",
    "    displayed_results.loc[MODEL_NAME, 'Relevance'] = scores_div.mean()\n",
    "    \n",
    "    X_diversified = model.movie_model(results_k_diversified).numpy()\n",
    "    volume_diversified = np.nan_to_num((np.linalg.det(X_diversified @ np.transpose(X_diversified, (0, 2, 1))) ** 0.5), 0.).mean()\n",
    "    displayed_results.loc[MODEL_NAME, 'Volume'] = volume_diversified"
   ]
  },
  {
   "cell_type": "code",
   "execution_count": 17,
   "metadata": {},
   "outputs": [
    {
     "data": {
      "text/html": [
       "<div>\n",
       "<style scoped>\n",
       "    .dataframe tbody tr th:only-of-type {\n",
       "        vertical-align: middle;\n",
       "    }\n",
       "\n",
       "    .dataframe tbody tr th {\n",
       "        vertical-align: top;\n",
       "    }\n",
       "\n",
       "    .dataframe thead th {\n",
       "        text-align: right;\n",
       "    }\n",
       "</style>\n",
       "<table border=\"1\" class=\"dataframe\">\n",
       "  <thead>\n",
       "    <tr style=\"text-align: right;\">\n",
       "      <th></th>\n",
       "      <th>Relevance</th>\n",
       "      <th>Volume</th>\n",
       "    </tr>\n",
       "  </thead>\n",
       "  <tbody>\n",
       "    <tr>\n",
       "      <th>Model A (top $K$)</th>\n",
       "      <td>4.068948</td>\n",
       "      <td>1143.679688</td>\n",
       "    </tr>\n",
       "    <tr>\n",
       "      <th>Model ($\\lambda = 0.0$)</th>\n",
       "      <td>2.949149</td>\n",
       "      <td>2484.105713</td>\n",
       "    </tr>\n",
       "    <tr>\n",
       "      <th>Model ($\\lambda = 0.3333333333333333$)</th>\n",
       "      <td>3.073031</td>\n",
       "      <td>2454.123291</td>\n",
       "    </tr>\n",
       "    <tr>\n",
       "      <th>Model ($\\lambda = 0.6666666666666666$)</th>\n",
       "      <td>3.125466</td>\n",
       "      <td>2331.796631</td>\n",
       "    </tr>\n",
       "    <tr>\n",
       "      <th>Model ($\\lambda = 1.0$)</th>\n",
       "      <td>3.197375</td>\n",
       "      <td>2379.586914</td>\n",
       "    </tr>\n",
       "    <tr>\n",
       "      <th>Model ($\\lambda = 1.3333333333333333$)</th>\n",
       "      <td>3.299338</td>\n",
       "      <td>2308.547119</td>\n",
       "    </tr>\n",
       "    <tr>\n",
       "      <th>Model ($\\lambda = 1.6666666666666665$)</th>\n",
       "      <td>3.384029</td>\n",
       "      <td>2116.101807</td>\n",
       "    </tr>\n",
       "    <tr>\n",
       "      <th>Model ($\\lambda = 2.0$)</th>\n",
       "      <td>3.476042</td>\n",
       "      <td>1958.441406</td>\n",
       "    </tr>\n",
       "    <tr>\n",
       "      <th>Model ($\\lambda = 2.333333333333333$)</th>\n",
       "      <td>3.560382</td>\n",
       "      <td>2021.967285</td>\n",
       "    </tr>\n",
       "    <tr>\n",
       "      <th>Model ($\\lambda = 2.6666666666666665$)</th>\n",
       "      <td>3.638576</td>\n",
       "      <td>1854.187500</td>\n",
       "    </tr>\n",
       "    <tr>\n",
       "      <th>Model ($\\lambda = 3.0$)</th>\n",
       "      <td>3.688635</td>\n",
       "      <td>1823.638306</td>\n",
       "    </tr>\n",
       "  </tbody>\n",
       "</table>\n",
       "</div>"
      ],
      "text/plain": [
       "                                        Relevance       Volume\n",
       "Model A (top $K$)                        4.068948  1143.679688\n",
       "Model ($\\lambda = 0.0$)                  2.949149  2484.105713\n",
       "Model ($\\lambda = 0.3333333333333333$)   3.073031  2454.123291\n",
       "Model ($\\lambda = 0.6666666666666666$)   3.125466  2331.796631\n",
       "Model ($\\lambda = 1.0$)                  3.197375  2379.586914\n",
       "Model ($\\lambda = 1.3333333333333333$)   3.299338  2308.547119\n",
       "Model ($\\lambda = 1.6666666666666665$)   3.384029  2116.101807\n",
       "Model ($\\lambda = 2.0$)                  3.476042  1958.441406\n",
       "Model ($\\lambda = 2.333333333333333$)    3.560382  2021.967285\n",
       "Model ($\\lambda = 2.6666666666666665$)   3.638576  1854.187500\n",
       "Model ($\\lambda = 3.0$)                  3.688635  1823.638306"
      ]
     },
     "execution_count": 17,
     "metadata": {},
     "output_type": "execute_result"
    }
   ],
   "source": [
    "displayed_results"
   ]
  },
  {
   "cell_type": "markdown",
   "metadata": {},
   "source": [
    "For recall, $\\lambda = 0$ corresponds to all $q_i = 1$, while $\\lambda = 1$ corresponds to personalized $q_i$ using relevance."
   ]
  },
  {
   "cell_type": "code",
   "execution_count": 18,
   "metadata": {},
   "outputs": [
    {
     "data": {
      "text/plain": [
       "<Axes: xlabel='Volume', ylabel='Relevance'>"
      ]
     },
     "execution_count": 18,
     "metadata": {},
     "output_type": "execute_result"
    },
    {
     "data": {
      "image/png": "[encoded data removed]",
      "text/plain": [
       "<Figure size 640x480 with 1 Axes>"
      ]
     },
     "metadata": {},
     "output_type": "display_data"
    }
   ],
   "source": [
    "displayed_results.plot.scatter(x='Volume', y='Relevance')"
   ]
  },
  {
   "cell_type": "markdown",
   "metadata": {},
   "source": [
    "## Step 7: Apply a PCA to visualize recommendations in 2D"
   ]
  },
  {
   "cell_type": "code",
   "execution_count": 19,
   "metadata": {},
   "outputs": [
    {
     "name": "stderr",
     "output_type": "stream",
     "text": [
      "huggingface/tokenizers: The current process just got forked, after parallelism has already been used. Disabling parallelism to avoid deadlocks...\n",
      "To disable this warning, you can either:\n",
      "\t- Avoid using `tokenizers` before the fork if possible\n",
      "\t- Explicitly set the environment variable TOKENIZERS_PARALLELISM=(true | false)\n"
     ]
    },
    {
     "name": "stdout",
     "output_type": "stream",
     "text": [
      "CPU times: user 17.5 s, sys: 3.88 s, total: 21.4 s\n",
      "Wall time: 2.87 s\n"
     ]
    }
   ],
   "source": [
    "%%time\n",
    "from sklearn.manifold import TSNE\n",
    "\n",
    "# Apply a tSNE on all semantic embeddings\n",
    "movies_names_list = df_movies_plots['Title'].to_list()\n",
    "mobies_plots_list = df_movies_plots['plot_semantic_embedding'].to_list()\n",
    "X = np.array(mobies_plots_list)\n",
    "#pca = PCA(n_components=2)\n",
    "tsne = TSNE(n_components=2)\n",
    "X_2d = tsne.fit_transform(X)"
   ]
  },
  {
   "cell_type": "code",
   "execution_count": 20,
   "metadata": {},
   "outputs": [],
   "source": [
    "def plot_two_sets_of_recos(results_top_k, results_k_diversified, results_k_diversified_no_qi, X_2d):\n",
    "    plt.figure(figsize=(8, 6))\n",
    "\n",
    "    # Plot top_k recommendations\n",
    "    # TODO factor this\n",
    "    top_k_movies_indices = [movies_names_list.index(movie_name.decode('utf-8')) for movie_name in results_top_k]\n",
    "    print(top_k_movies_indices)\n",
    "    plt.scatter([X_2d[i, 0] for i in top_k_movies_indices],\n",
    "                [X_2d[i, 1] for i in top_k_movies_indices], \n",
    "                color='red', label=\"top $k$ recommendations\", marker='.')\n",
    "    for movie_id, name in zip(top_k_movies_indices, results_top_k):\n",
    "        plt.annotate(name.decode('utf-8'), xy=X_2d[movie_id], xytext=X_2d[movie_id] + 0.02, c='red')\n",
    "\n",
    "    # Plot diversified recommendations\n",
    "    diversified_k_movies_indices = [movies_names_list.index(movie_name.decode('utf-8')) for movie_name in results_k_diversified]\n",
    "    plt.scatter([X_2d[i, 0] for i in diversified_k_movies_indices],\n",
    "                [X_2d[i, 1] for i in diversified_k_movies_indices], \n",
    "                color='blue', label=\"diversified $\\lambda = 3$ recommendations\", marker='.')\n",
    "\n",
    "    # Plot diversified recommendations no q_i\n",
    "    diversified_no_qi_k_movies_indices = [movies_names_list.index(movie_name.decode('utf-8')) for movie_name in results_k_diversified_no_qi]\n",
    "    plt.scatter([X_2d[i, 0] for i in diversified_no_qi_k_movies_indices],\n",
    "                [X_2d[i, 1] for i in diversified_no_qi_k_movies_indices], \n",
    "                color='forestgreen', label=\"diversified $\\lambda = 0$ recommendations\", marker='.')\n",
    "\n",
    "\n",
    "    plt.title(\"Movie Embeddings ($t$-SNE 2D)\")\n",
    "    plt.xlabel(\"$t$-SNE axis 1\")\n",
    "    plt.ylabel(\"$t$-SNE axis 2\")\n",
    "    plt.legend()\n",
    "    plt.grid(True)\n",
    "    plt.show()\n"
   ]
  },
  {
   "cell_type": "code",
   "execution_count": 21,
   "metadata": {},
   "outputs": [
    {
     "name": "stdout",
     "output_type": "stream",
     "text": [
      "[606, 528, 914, 548, 514, 589, 628, 645, 631, 649]\n"
     ]
    },
    {
     "data": {
      "image/png": "[encoded data removed]",
      "text/plain": [
       "<Figure size 800x600 with 1 Axes>"
      ]
     },
     "metadata": {},
     "output_type": "display_data"
    }
   ],
   "source": [
    "plot_two_sets_of_recos(results_top_k[0], results_k_diversified[0], results_k_diversified_no_qi[0], X_2d)"
   ]
  },
  {
   "cell_type": "code",
   "execution_count": 22,
   "metadata": {},
   "outputs": [],
   "source": [
    "displayed_results['Volume ratio'] = displayed_results['Volume'] / volume_top_k"
   ]
  },
  {
   "cell_type": "code",
   "execution_count": 23,
   "metadata": {},
   "outputs": [
    {
     "data": {
      "text/html": [
       "<div>\n",
       "<style scoped>\n",
       "    .dataframe tbody tr th:only-of-type {\n",
       "        vertical-align: middle;\n",
       "    }\n",
       "\n",
       "    .dataframe tbody tr th {\n",
       "        vertical-align: top;\n",
       "    }\n",
       "\n",
       "    .dataframe thead th {\n",
       "        text-align: right;\n",
       "    }\n",
       "</style>\n",
       "<table border=\"1\" class=\"dataframe\">\n",
       "  <thead>\n",
       "    <tr style=\"text-align: right;\">\n",
       "      <th></th>\n",
       "      <th>Relevance</th>\n",
       "      <th>Volume</th>\n",
       "      <th>Volume ratio</th>\n",
       "    </tr>\n",
       "  </thead>\n",
       "  <tbody>\n",
       "    <tr>\n",
       "      <th>Model A (top $K$)</th>\n",
       "      <td>4.068948</td>\n",
       "      <td>1143.679688</td>\n",
       "      <td>1.000000</td>\n",
       "    </tr>\n",
       "    <tr>\n",
       "      <th>Model ($\\lambda = 0.0$)</th>\n",
       "      <td>2.949149</td>\n",
       "      <td>2484.105713</td>\n",
       "      <td>2.172029</td>\n",
       "    </tr>\n",
       "    <tr>\n",
       "      <th>Model ($\\lambda = 0.3333333333333333$)</th>\n",
       "      <td>3.073031</td>\n",
       "      <td>2454.123291</td>\n",
       "      <td>2.145813</td>\n",
       "    </tr>\n",
       "    <tr>\n",
       "      <th>Model ($\\lambda = 0.6666666666666666$)</th>\n",
       "      <td>3.125466</td>\n",
       "      <td>2331.796631</td>\n",
       "      <td>2.038855</td>\n",
       "    </tr>\n",
       "    <tr>\n",
       "      <th>Model ($\\lambda = 1.0$)</th>\n",
       "      <td>3.197375</td>\n",
       "      <td>2379.586914</td>\n",
       "      <td>2.080641</td>\n",
       "    </tr>\n",
       "    <tr>\n",
       "      <th>Model ($\\lambda = 1.3333333333333333$)</th>\n",
       "      <td>3.299338</td>\n",
       "      <td>2308.547119</td>\n",
       "      <td>2.018526</td>\n",
       "    </tr>\n",
       "    <tr>\n",
       "      <th>Model ($\\lambda = 1.6666666666666665$)</th>\n",
       "      <td>3.384029</td>\n",
       "      <td>2116.101807</td>\n",
       "      <td>1.850257</td>\n",
       "    </tr>\n",
       "    <tr>\n",
       "      <th>Model ($\\lambda = 2.0$)</th>\n",
       "      <td>3.476042</td>\n",
       "      <td>1958.441406</td>\n",
       "      <td>1.712404</td>\n",
       "    </tr>\n",
       "    <tr>\n",
       "      <th>Model ($\\lambda = 2.333333333333333$)</th>\n",
       "      <td>3.560382</td>\n",
       "      <td>2021.967285</td>\n",
       "      <td>1.767949</td>\n",
       "    </tr>\n",
       "    <tr>\n",
       "      <th>Model ($\\lambda = 2.6666666666666665$)</th>\n",
       "      <td>3.638576</td>\n",
       "      <td>1854.187500</td>\n",
       "      <td>1.621247</td>\n",
       "    </tr>\n",
       "    <tr>\n",
       "      <th>Model ($\\lambda = 3.0$)</th>\n",
       "      <td>3.688635</td>\n",
       "      <td>1823.638306</td>\n",
       "      <td>1.594536</td>\n",
       "    </tr>\n",
       "  </tbody>\n",
       "</table>\n",
       "</div>"
      ],
      "text/plain": [
       "                                        Relevance       Volume  Volume ratio\n",
       "Model A (top $K$)                        4.068948  1143.679688      1.000000\n",
       "Model ($\\lambda = 0.0$)                  2.949149  2484.105713      2.172029\n",
       "Model ($\\lambda = 0.3333333333333333$)   3.073031  2454.123291      2.145813\n",
       "Model ($\\lambda = 0.6666666666666666$)   3.125466  2331.796631      2.038855\n",
       "Model ($\\lambda = 1.0$)                  3.197375  2379.586914      2.080641\n",
       "Model ($\\lambda = 1.3333333333333333$)   3.299338  2308.547119      2.018526\n",
       "Model ($\\lambda = 1.6666666666666665$)   3.384029  2116.101807      1.850257\n",
       "Model ($\\lambda = 2.0$)                  3.476042  1958.441406      1.712404\n",
       "Model ($\\lambda = 2.333333333333333$)    3.560382  2021.967285      1.767949\n",
       "Model ($\\lambda = 2.6666666666666665$)   3.638576  1854.187500      1.621247\n",
       "Model ($\\lambda = 3.0$)                  3.688635  1823.638306      1.594536"
      ]
     },
     "execution_count": 23,
     "metadata": {},
     "output_type": "execute_result"
    }
   ],
   "source": [
    "displayed_results"
   ]
  },
  {
   "cell_type": "code",
   "execution_count": 24,
   "metadata": {},
   "outputs": [
    {
     "data": {
      "text/plain": [
       "<Axes: xlabel='Volume ratio', ylabel='Relevance'>"
      ]
     },
     "execution_count": 24,
     "metadata": {},
     "output_type": "execute_result"
    },
    {
     "data": {
      "image/png": "[encoded data removed]",
      "text/plain": [
       "<Figure size 640x480 with 1 Axes>"
      ]
     },
     "metadata": {},
     "output_type": "display_data"
    }
   ],
   "source": [
    "displayed_results.plot.scatter(x='Volume ratio', y='Relevance')"
   ]
  },
  {
   "cell_type": "code",
   "execution_count": 25,
   "metadata": {},
   "outputs": [],
   "source": [
    "## Plot all movies in the movies dataset\n",
    "#plot_two_sets_of_recos(df_movies_plots.Title.unique(),df_movies_plots.Title.unique(), X_2d)"
   ]
  },
  {
   "cell_type": "markdown",
   "metadata": {},
   "source": [
    "# Remarks: \n",
    "- The two tower retrieval model is a dummy model. It does not necessarily perform well especially considering the 'factorized_top_k/top_*_categorical_accuracy'. This means that even the top-10 closest movies can be already diverse.\n",
    "- With our data at pass culture, we observe a high impact of DPP sampling on diversity metrics. We typically have a factor of 12x or 15x gain in volume after samping with DPPs. Our business diversification metric also increased by at least 12%.\n"
   ]
  }
 ],
 "metadata": {
  "kernelspec": {
   "display_name": "Python 3 (ipykernel)",
   "language": "python",
   "name": "python3"
  },
  "language_info": {
   "codemirror_mode": {
    "name": "ipython",
    "version": 3
   },
   "file_extension": ".py",
   "mimetype": "text/x-python",
   "name": "python",
   "nbconvert_exporter": "python",
   "pygments_lexer": "ipython3",
   "version": "3.10.18"
  }
 },
 "nbformat": 4,
 "nbformat_minor": 4
}
