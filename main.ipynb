{
 "cells": [
  {
   "cell_type": "markdown",
   "metadata": {},
   "source": [
    "# Movie Recommendation Pipeline with Diversification\n",
    "\n",
    "This notebook serves as a simple demo for the pass Culture recommender pipeline. The original pipeline is described in the figure 1: \n",
    "![alt text](images/pipeline_diagram.png \"Figure 1: pass Culture recommender system pipeline\")\n",
    "\n",
    "This notebook only replicates the Two tower retreival model, the semantic embeddings with all-mini-L6-v2 and the DPP filter. The main goal of this notebook is to:\n",
    "- serve as a simple demo for our paper\n",
    "- Give practioners a ready-to-use notebook to test DPP architecture in recommenders systems\n",
    "- Show the effect of DPP filtering on diversity of recommendations\n",
    "\n",
    "## Dataset:\n",
    "The original data at pass culture contains items and the description of the items (for example: a movie and the plot of the movie, or a book and the description of the book). These descriptions are used to generate semantic embedding for the items. To mimic the pass culture, we use the movieLens dataset in this notebook. To get \"item descriptions\", we use [`vishnupriyavr/wiki-movie-plots-with-summaries`]( https://huggingface.co/datasets/vishnupriyavr/wiki-movie-plots-with-summaries) dataset to get movies plots which will be later embedded by all-mini-l6-v2. 923 movies are kept after filtering.\n",
    "\n",
    "## Steps covered in this notebook\n",
    "#### 1. Preparation of data and Two Tower model:\n",
    "- Load and preprocess movieLens movie and ratings data only keeping those that have a plot summary.\n",
    "- Compute semantic embeddings of movies plots\n",
    "- Train a two-tower retrieval model following the tensorflow recommenders [tutoriel](https://www.tensorflow.org/recommenders/examples/basic_retrieval)\n",
    "\n",
    "#### 2. Study DPP module\n",
    "- Create the DPP module through `DiversificationPipeline` class\n",
    "- Benchmark retrieval vs retrieval + DPP:\n",
    "    - For one user, retrieve 100 movies with the Two Tower retrieval model \n",
    "    - Get top 10 recommendations with highest cosine similarity with the user\n",
    "    - Sample 10 diversified movies from the 100 retrieved recommendations.\n",
    "    -  plot the two sets of recommendations in a 2D plot by projecting the item embeddings with a PCA.\n",
    "    - Compute volume metric : The volume of the recommended items is a measure of diversification. It is computed as the square root of the determinant of the matrix containing semantic embeddings of the items. The bigger the volume, the more diversified the set of items is.\n"
   ]
  },
  {
   "cell_type": "code",
   "execution_count": 9,
   "metadata": {},
   "outputs": [],
   "source": [
    "## imports\n",
    "from typing import Dict, Text, List\n",
    "\n",
    "import tensorflow as tf\n",
    "import tensorflow_datasets as tfds\n",
    "import tensorflow_recommenders as tfrs\n",
    "\n",
    "from sentence_transformers import SentenceTransformer\n",
    "\n",
    "from dppy.finite_dpps import FiniteDPP\n",
    "\n",
    "import lancedb\n",
    "\n",
    "import pandas as pd\n",
    "import numpy as np\n",
    "import matplotlib.pyplot as plt\n",
    "\n",
    "from sklearn.decomposition import PCA"
   ]
  },
  {
   "cell_type": "markdown",
   "metadata": {},
   "source": [
    "## Step 1: load and preprocess movieLens data \n",
    "- only keep movies which have a plot summary\n",
    "- create a train dataset with 50k samples and a test set with about 16k samples."
   ]
  },
  {
   "cell_type": "code",
   "execution_count": 6,
   "metadata": {},
   "outputs": [],
   "source": [
    "\n",
    "# Load the movie plots dataset from HuggingFace \n",
    "df_movies_plots = pd.read_csv(\n",
    "    \"hf://datasets/vishnupriyavr/wiki-movie-plots-with-summaries/wiki_movie_plots_deduped_with_summaries.csv\"\n",
    ")[['Title', 'PlotSummary']]\n",
    "\n",
    "df_movies_plots.drop_duplicates(subset=['Title'], keep='last', inplace=True)\n",
    "\n",
    "## Load movies and ratings dataset from TFRS\n",
    "ratings = tfds.load(\"movielens/100k-ratings\", split=\"train\")\n",
    "movies = tfds.load(\"movielens/100k-movies\", split=\"train\")\n",
    "\n",
    "\n",
    "## Filter movies and ratings dataset to keep those with plots\n",
    "ratings_list = list(ratings)  # Will work for 100k dataset\n",
    "ratings_dicts = [\n",
    "    {\n",
    "        \"user_id\": x[\"user_id\"].numpy().decode(\"utf-8\"),\n",
    "        \"movie_title\": x[\"movie_title\"].numpy().decode(\"utf-8\"),\n",
    "    }\n",
    "    for x in ratings_list\n",
    "]\n",
    "ratings_df = pd.DataFrame(ratings_dicts)\n",
    "ratings_df.movie_title = ratings_df.movie_title.map(lambda x: x.split('(')[0].strip())\n",
    "ratings_df = pd.merge(ratings_df, df_movies_plots, left_on='movie_title', right_on='Title', how='inner')[['user_id', 'movie_title']]\n",
    "ratings_ds = tf.data.Dataset.from_tensor_slices(dict(ratings_df))\n",
    "\n",
    "## Filter movies dataset\n",
    "movies_list = list(movies)  \n",
    "movies_dicts = [\n",
    "    {\n",
    "        \"movie_title\": x[\"movie_title\"].numpy().decode(\"utf-8\"),\n",
    "    }\n",
    "    for x in movies_list\n",
    "]\n",
    "movies_df = pd.DataFrame(movies_dicts)\n",
    "movies_df.movie_title = movies_df.movie_title.map(lambda x: x.split('(')[0].strip())\n",
    "movies_df = pd.merge(movies_df, df_movies_plots, left_on='movie_title', right_on='Title', how='inner')[['movie_title']]\n",
    "movies_ds = tf.data.Dataset.from_tensor_slices(dict(movies_df))\n",
    "\n",
    "\n",
    "# Prepare the ratings dataset for training\n",
    "ratings_ds = ratings_ds.map(lambda x: {\n",
    "    \"movie_title\": x[\"movie_title\"],\n",
    "    \"user_id\": x[\"user_id\"],\n",
    "})\n",
    "movies_ds = movies_ds.map(lambda x: x[\"movie_title\"])\n",
    "\n",
    "\n",
    "# Shuffle and split the data\n",
    "tf.random.set_seed(42)\n",
    "shuffled = ratings_ds.shuffle(100_000, seed=42, reshuffle_each_iteration=False)\n",
    "\n",
    "train = shuffled.take(50_000) ## After filtering rating_ds has 67,921 rows\n",
    "test = shuffled.skip(50_000).take(20_000)\n",
    "\n",
    "# Prepare unique user and movie vocabularies\n",
    "movie_titles = movies_ds.batch(1_000)\n",
    "user_ids = ratings_ds.batch(1_000_000).map(lambda x: x[\"user_id\"])\n",
    "unique_movie_titles = np.unique(np.concatenate(list(movie_titles)))\n",
    "unique_user_ids = np.unique(np.concatenate(list(user_ids)))\n",
    "\n",
    "# Filter the df_movies_plots datafrale to keep only movies that exist in movielens\n",
    "df_movies_plots = df_movies_plots[df_movies_plots.Title.isin([str(movie_name.decode(\"utf-8\")) for movie_name in unique_movie_titles])]\n"
   ]
  },
  {
   "cell_type": "markdown",
   "metadata": {},
   "source": [
    "## Step 2: compute semantic embeddings of movies plot summaries\n"
   ]
  },
  {
   "cell_type": "code",
   "execution_count": 29,
   "metadata": {},
   "outputs": [],
   "source": [
    "## Add the semantic embeddings to the df_movies_plots \n",
    "\n",
    "# Load the model\n",
    "model = SentenceTransformer('all-MiniLM-L6-v2')\n",
    "\n",
    "# Compute embeddings\n",
    "df_movies_plots['plot_semantic_embedding'] = df_movies_plots['PlotSummary'].apply(lambda x: model.encode(x, convert_to_numpy=True))\n"
   ]
  },
  {
   "cell_type": "markdown",
   "metadata": {},
   "source": [
    "## Step 3: Build and train the two tower model"
   ]
  },
  {
   "cell_type": "code",
   "execution_count": 4,
   "metadata": {},
   "outputs": [],
   "source": [
    "## Define the Two Tower model \n",
    "embedding_dimension = 32\n",
    "\n",
    "user_model = tf.keras.Sequential([\n",
    "  tf.keras.layers.StringLookup(\n",
    "      vocabulary=unique_user_ids, mask_token=None),\n",
    "  # We add an additional embedding to account for unknown tokens.\n",
    "  tf.keras.layers.Embedding(len(unique_user_ids) + 1, embedding_dimension)\n",
    "])\n",
    "\n",
    "movie_model = tf.keras.Sequential([\n",
    "  tf.keras.layers.StringLookup(\n",
    "      vocabulary=unique_movie_titles, mask_token=None),\n",
    "  tf.keras.layers.Embedding(len(unique_movie_titles) + 1, embedding_dimension)\n",
    "])\n",
    "\n",
    "metrics = tfrs.metrics.FactorizedTopK(\n",
    "  candidates=movies_ds.batch(128).map(movie_model)\n",
    ")\n",
    "\n",
    "task = tfrs.tasks.Retrieval(\n",
    "  metrics=metrics\n",
    ")\n",
    "\n",
    "class MovielensModel(tfrs.Model):\n",
    "  def __init__(self, user_model, movie_model):\n",
    "    super().__init__()\n",
    "    self.movie_model: tf.keras.Model = movie_model\n",
    "    self.user_model: tf.keras.Model = user_model\n",
    "    self.task: tf.keras.layers.Layer = task\n",
    "\n",
    "  def compute_loss(self, features: Dict[Text, tf.Tensor], training=False) -> tf.Tensor:\n",
    "    # We pick out the user features and pass them into the user model.\n",
    "    user_embeddings = self.user_model(features[\"user_id\"])\n",
    "    # And pick out the movie features and pass them into the movie model,\n",
    "    # getting embeddings back.\n",
    "    positive_movie_embeddings = self.movie_model(features[\"movie_title\"])\n",
    "\n",
    "    # The task computes the loss and the metrics.\n",
    "    return self.task(user_embeddings, positive_movie_embeddings)"
   ]
  },
  {
   "cell_type": "code",
   "execution_count": 5,
   "metadata": {},
   "outputs": [
    {
     "name": "stderr",
     "output_type": "stream",
     "text": [
      "WARNING:absl:At this time, the v2.11+ optimizer `tf.keras.optimizers.Adagrad` runs slowly on M1/M2 Macs, please use the legacy TF-Keras optimizer instead, located at `tf.keras.optimizers.legacy.Adagrad`.\n"
     ]
    },
    {
     "name": "stdout",
     "output_type": "stream",
     "text": [
      "Epoch 1/10\n",
      "7/7 [==============================] - 5s 244ms/step - factorized_top_k/top_1_categorical_accuracy: 0.0017 - factorized_top_k/top_5_categorical_accuracy: 0.0128 - factorized_top_k/top_10_categorical_accuracy: 0.0288 - factorized_top_k/top_50_categorical_accuracy: 0.1266 - factorized_top_k/top_100_categorical_accuracy: 0.2195 - loss: 56640.2168 - regularization_loss: 0.0000e+00 - total_loss: 56640.2168\n",
      "Epoch 2/10\n",
      "7/7 [==============================] - 2s 249ms/step - factorized_top_k/top_1_categorical_accuracy: 0.0046 - factorized_top_k/top_5_categorical_accuracy: 0.0302 - factorized_top_k/top_10_categorical_accuracy: 0.0607 - factorized_top_k/top_50_categorical_accuracy: 0.2416 - factorized_top_k/top_100_categorical_accuracy: 0.3898 - loss: 55053.2190 - regularization_loss: 0.0000e+00 - total_loss: 55053.2190\n",
      "Epoch 3/10\n",
      "7/7 [==============================] - 2s 229ms/step - factorized_top_k/top_1_categorical_accuracy: 0.0056 - factorized_top_k/top_5_categorical_accuracy: 0.0355 - factorized_top_k/top_10_categorical_accuracy: 0.0699 - factorized_top_k/top_50_categorical_accuracy: 0.2609 - factorized_top_k/top_100_categorical_accuracy: 0.4209 - loss: 53886.0259 - regularization_loss: 0.0000e+00 - total_loss: 53886.0259\n",
      "Epoch 4/10\n",
      "7/7 [==============================] - 2s 264ms/step - factorized_top_k/top_1_categorical_accuracy: 0.0061 - factorized_top_k/top_5_categorical_accuracy: 0.0416 - factorized_top_k/top_10_categorical_accuracy: 0.0801 - factorized_top_k/top_50_categorical_accuracy: 0.2824 - factorized_top_k/top_100_categorical_accuracy: 0.4455 - loss: 53204.3353 - regularization_loss: 0.0000e+00 - total_loss: 53204.3353\n",
      "Epoch 5/10\n",
      "7/7 [==============================] - 2s 242ms/step - factorized_top_k/top_1_categorical_accuracy: 0.0069 - factorized_top_k/top_5_categorical_accuracy: 0.0462 - factorized_top_k/top_10_categorical_accuracy: 0.0881 - factorized_top_k/top_50_categorical_accuracy: 0.3020 - factorized_top_k/top_100_categorical_accuracy: 0.4649 - loss: 52700.7358 - regularization_loss: 0.0000e+00 - total_loss: 52700.7358\n",
      "Epoch 6/10\n",
      "7/7 [==============================] - 2s 229ms/step - factorized_top_k/top_1_categorical_accuracy: 0.0071 - factorized_top_k/top_5_categorical_accuracy: 0.0489 - factorized_top_k/top_10_categorical_accuracy: 0.0939 - factorized_top_k/top_50_categorical_accuracy: 0.3170 - factorized_top_k/top_100_categorical_accuracy: 0.4819 - loss: 52303.6942 - regularization_loss: 0.0000e+00 - total_loss: 52303.6942\n",
      "Epoch 7/10\n",
      "7/7 [==============================] - 2s 233ms/step - factorized_top_k/top_1_categorical_accuracy: 0.0083 - factorized_top_k/top_5_categorical_accuracy: 0.0528 - factorized_top_k/top_10_categorical_accuracy: 0.0989 - factorized_top_k/top_50_categorical_accuracy: 0.3288 - factorized_top_k/top_100_categorical_accuracy: 0.4938 - loss: 51983.0607 - regularization_loss: 0.0000e+00 - total_loss: 51983.0607\n",
      "Epoch 8/10\n",
      "7/7 [==============================] - 2s 265ms/step - factorized_top_k/top_1_categorical_accuracy: 0.0085 - factorized_top_k/top_5_categorical_accuracy: 0.0549 - factorized_top_k/top_10_categorical_accuracy: 0.1025 - factorized_top_k/top_50_categorical_accuracy: 0.3387 - factorized_top_k/top_100_categorical_accuracy: 0.5051 - loss: 51720.7894 - regularization_loss: 0.0000e+00 - total_loss: 51720.7894\n",
      "Epoch 9/10\n",
      "7/7 [==============================] - 2s 230ms/step - factorized_top_k/top_1_categorical_accuracy: 0.0086 - factorized_top_k/top_5_categorical_accuracy: 0.0563 - factorized_top_k/top_10_categorical_accuracy: 0.1063 - factorized_top_k/top_50_categorical_accuracy: 0.3460 - factorized_top_k/top_100_categorical_accuracy: 0.5132 - loss: 51504.0854 - regularization_loss: 0.0000e+00 - total_loss: 51504.0854\n",
      "Epoch 10/10\n",
      "7/7 [==============================] - 2s 238ms/step - factorized_top_k/top_1_categorical_accuracy: 0.0090 - factorized_top_k/top_5_categorical_accuracy: 0.0580 - factorized_top_k/top_10_categorical_accuracy: 0.1091 - factorized_top_k/top_50_categorical_accuracy: 0.3523 - factorized_top_k/top_100_categorical_accuracy: 0.5198 - loss: 51323.2012 - regularization_loss: 0.0000e+00 - total_loss: 51323.2012\n",
      "5/5 [==============================] - 1s 90ms/step - factorized_top_k/top_1_categorical_accuracy: 2.7900e-04 - factorized_top_k/top_5_categorical_accuracy: 0.0040 - factorized_top_k/top_10_categorical_accuracy: 0.0118 - factorized_top_k/top_50_categorical_accuracy: 0.1201 - factorized_top_k/top_100_categorical_accuracy: 0.2585 - loss: 26090.8428 - regularization_loss: 0.0000e+00 - total_loss: 26090.8428\n"
     ]
    },
    {
     "data": {
      "text/plain": [
       "{'factorized_top_k/top_1_categorical_accuracy': 0.000279002299066633,\n",
       " 'factorized_top_k/top_5_categorical_accuracy': 0.003961832262575626,\n",
       " 'factorized_top_k/top_10_categorical_accuracy': 0.011829696595668793,\n",
       " 'factorized_top_k/top_50_categorical_accuracy': 0.12008258700370789,\n",
       " 'factorized_top_k/top_100_categorical_accuracy': 0.25846773386001587,\n",
       " 'loss': 11071.4052734375,\n",
       " 'regularization_loss': 0,\n",
       " 'total_loss': 11071.4052734375}"
      ]
     },
     "execution_count": 5,
     "metadata": {},
     "output_type": "execute_result"
    }
   ],
   "source": [
    "## Train the model\n",
    "model = MovielensModel(user_model, movie_model)\n",
    "model.compile(optimizer=tf.keras.optimizers.Adagrad(learning_rate=0.1))\n",
    "\n",
    "cached_train = train.shuffle(100_000).batch(8192).cache()\n",
    "cached_test = test.batch(4096).cache()\n",
    "\n",
    "model.fit(cached_train, epochs=10)\n",
    "\n",
    "model.evaluate(cached_test, return_dict=True)"
   ]
  },
  {
   "cell_type": "markdown",
   "metadata": {},
   "source": [
    "## Step 3: Build a vector database containing the movies two-tower embeddings \n",
    "The vector database is built with lancedb and servers to retrieve closest movies to a user given the user two tower embedding."
   ]
  },
  {
   "cell_type": "code",
   "execution_count": 12,
   "metadata": {},
   "outputs": [],
   "source": [
    "# Create movies_docs\n",
    "movies_list = movie_model.layers[0].get_vocabulary()\n",
    "movies_weights = movie_model.layers[1].get_weights()[0].astype(np.float32)\n",
    "movie_data = [\n",
    "    {\"movie_name\": name, \"vector\": embedding}\n",
    "    for name, embedding in zip(movies_list, movies_weights)\n",
    "]\n",
    "# Create or open a local LanceDB\n",
    "db = lancedb.connect(\"./tmp/lancedb\")\n",
    "\n",
    "# Create a table from the movie data\n",
    "movies_table = db.create_table(\"movies\", data=movie_data, mode=\"overwrite\")\n"
   ]
  },
  {
   "cell_type": "markdown",
   "metadata": {},
   "source": [
    "## Step 4: build DPP module"
   ]
  },
  {
   "cell_type": "code",
   "execution_count": 10,
   "metadata": {},
   "outputs": [],
   "source": [
    "class DiversificationPipeline:\n",
    "    def __init__(self, item_semantic_embeddings: List, ids: List, scores: List) -> None:\n",
    "        self.item_semantic_embeddings = np.array(\n",
    "            item_semantic_embeddings, dtype=np.float64\n",
    "        )\n",
    "        self.item_ids = ids\n",
    "        self.scores = np.array(scores, dtype=np.float64) ## scores are relevance qi score from TT\n",
    "\n",
    "    @staticmethod\n",
    "    def _get_dpp_samples(vectors: np.ndarray, K_DPP: int) -> List:\n",
    "        diversification_matrix = vectors.dot(vectors.T)\n",
    "        dpp_model = FiniteDPP(\"likelihood\", **{\"L\": diversification_matrix})\n",
    "        return dpp_model.sample_exact_k_dpp(size=K_DPP)\n",
    "\n",
    "    def get_sampled_ids(self, K_DPP: int, use_qi: bool) -> List:\n",
    "        # Calculate weighted embeddings and normalize in a single step\n",
    "        weighted_embeddings = (\n",
    "            self.scores[:, np.newaxis] * self.item_semantic_embeddings\n",
    "            if use_qi\n",
    "            else self.item_semantic_embeddings\n",
    "        )\n",
    "\n",
    "        # Apply DPP sampling\n",
    "        sampled_indices = self._get_dpp_samples(\n",
    "            vectors=weighted_embeddings, K_DPP=K_DPP\n",
    "        )\n",
    "\n",
    "        return [self.item_ids[i] for i in sampled_indices]\n",
    "    \n",
    " "
   ]
  },
  {
   "cell_type": "markdown",
   "metadata": {},
   "source": [
    "## Step 5: test top and diversified retrievals for one user"
   ]
  },
  {
   "cell_type": "code",
   "execution_count": 37,
   "metadata": {},
   "outputs": [],
   "source": [
    "\n",
    "def retrieval(k, user_id, user_embedding_dict, use_qi=True):\n",
    "    user_vector = user_embedding_dict[user_id]\n",
    "    # Search for top 100 most similar movies using cosine similarity\n",
    "    # the movies dataset contains 923 so we set the retrieval to 100 so its an upper bound for all results\n",
    "    results = movies_table.search(user_vector).metric(\"cosine\").limit(100).to_pandas()\n",
    "    results[\"cosine_similarity\"] = 1 - results[\"_distance\"]  \n",
    "    ## add semantic embeddings to results df\n",
    "    results = pd.merge(results, df_movies_plots, left_on=\"movie_name\", right_on=\"Title\", how='inner')\n",
    "    \n",
    "    ## Get top_k recommendations\n",
    "    results_top_k = results.sort_values(by='cosine_similarity', ascending=False).head(k)['movie_name'].to_list()\n",
    "    \n",
    "    ## Get k diversified recommendations\n",
    "    retrieved_movies = results.to_dict(orient='records')\n",
    "    results_k_diversified = DiversificationPipeline(\n",
    "                                            item_semantic_embeddings=[\n",
    "                                                item[\"plot_semantic_embedding\"] for item in retrieved_movies\n",
    "                                            ],\n",
    "                                            ids=[item[\"movie_name\"] for item in retrieved_movies],\n",
    "                                            scores=[float(item[\"cosine_similarity\"]) for item in retrieved_movies],\n",
    "                                        ).get_sampled_ids(K_DPP=k, use_qi=use_qi)\n",
    "    return results_top_k, results_k_diversified\n",
    "                                            \n"
   ]
  },
  {
   "cell_type": "code",
   "execution_count": 38,
   "metadata": {},
   "outputs": [],
   "source": [
    "users_list = user_model.layers[0].get_vocabulary()\n",
    "users_weights = user_model.layers[1].get_weights()[0].astype(np.float32)\n",
    "user_embedding_dict = {x: y for x, y in zip(users_list, users_weights)}\n",
    "user_id = users_list[100] # the 101th user_id \n",
    "\n",
    "results_top_k, results_k_diversified =  retrieval(10, user_id, user_embedding_dict, use_qi=True)\n",
    "results_top_k, results_k_diversified"
   ]
  },
  {
   "cell_type": "markdown",
   "metadata": {},
   "source": [
    "## Step 6: Apply a PCA to visualize recommendations in 2D"
   ]
  },
  {
   "cell_type": "code",
   "execution_count": 43,
   "metadata": {},
   "outputs": [],
   "source": [
    "# Apply a PCA on all semantic embeddings\n",
    "movies_names_list = df_movies_plots['Title'].to_list()\n",
    "mobies_plots_list = df_movies_plots['plot_semantic_embedding'].to_list()\n",
    "X = np.array(mobies_plots_list)\n",
    "pca = PCA(n_components=2)\n",
    "X_2d = pca.fit_transform(X)"
   ]
  },
  {
   "cell_type": "code",
   "execution_count": 60,
   "metadata": {},
   "outputs": [],
   "source": [
    "def plot_two_sets_of_recos(results_top_k,results_k_diversified, X_2d):\n",
    "    plt.figure(figsize=(8, 6))\n",
    "\n",
    "    # Plot top_k recommendations\n",
    "    top_k_movies_indices = [movies_names_list.index(movie_name) for movie_name in results_top_k]\n",
    "    plt.scatter([X_2d[i, 0] for i in top_k_movies_indices],\n",
    "                [X_2d[i, 1] for i in top_k_movies_indices], \n",
    "                color='red', label=\"top k recommendations\")\n",
    "\n",
    "    # Plot top_k recommendations\n",
    "    diversified_k_movies_indices = [movies_names_list.index(movie_name) for movie_name in results_k_diversified]\n",
    "    plt.scatter([X_2d[i, 0] for i in diversified_k_movies_indices],\n",
    "                [X_2d[i, 1] for i in diversified_k_movies_indices], \n",
    "                color='blue', label=\"diversified k recommendations\")\n",
    "\n",
    "\n",
    "    plt.title(\"Movie Embeddings (PCA 2D)\")\n",
    "    plt.xlabel(\"PCA 1\")\n",
    "    plt.ylabel(\"PCA 2\")\n",
    "    plt.legend()\n",
    "    plt.grid(True)\n",
    "    plt.show()\n"
   ]
  },
  {
   "cell_type": "code",
   "execution_count": 61,
   "metadata": {},
   "outputs": [
    {
     "data": {
      "image/png": "[encoded data removed]",
      "text/plain": [
       "<Figure size 800x600 with 1 Axes>"
      ]
     },
     "metadata": {},
     "output_type": "display_data"
    }
   ],
   "source": [
    "plot_two_sets_of_recos(results_top_k,results_k_diversified, X_2d)"
   ]
  },
  {
   "cell_type": "code",
   "execution_count": 59,
   "metadata": {},
   "outputs": [
    {
     "name": "stdout",
     "output_type": "stream",
     "text": [
      "The diversified recommendations have a volume 1.1379022598266602 bigger than non diversified recos\n"
     ]
    }
   ],
   "source": [
    "X_diversified = np.stack(df_movies_plots[df_movies_plots.Title.isin(results_k_diversified)]['plot_semantic_embedding'].to_numpy())\n",
    "volume_diversified = np.linalg.det(X_diversified@X_diversified.T)\n",
    "\n",
    "X_top_k = np.stack(df_movies_plots[df_movies_plots.Title.isin(results_top_k)]['plot_semantic_embedding'].to_numpy())\n",
    "volume_top_k = np.linalg.det(X_top_k@X_top_k.T)\n",
    "\n",
    "volume_diversified, volume_top_k\n",
    "print(f\"The diversified recommendations have a volume {volume_diversified/volume_top_k} bigger than non diversified recos\")"
   ]
  },
  {
   "cell_type": "markdown",
   "metadata": {},
   "source": [
    "## Step 7: try without quality relevance scores:"
   ]
  },
  {
   "cell_type": "code",
   "execution_count": 62,
   "metadata": {},
   "outputs": [
    {
     "data": {
      "text/plain": [
       "(['Red Firecracker, Green Firecracker',\n",
       "  'Gaslight',\n",
       "  'Aparajito',\n",
       "  'Roman Holiday',\n",
       "  'Picture Bride',\n",
       "  'Picnic',\n",
       "  'Death in Brunswick',\n",
       "  'Ran',\n",
       "  'To Be or Not to Be',\n",
       "  'Golden Earrings'],\n",
       " ['Spellbound',\n",
       "  'Bringing Up Baby',\n",
       "  'Picnic',\n",
       "  'Roman Holiday',\n",
       "  'Withnail and I',\n",
       "  'Matilda',\n",
       "  \"Breakfast at Tiffany's\",\n",
       "  'Jefferson in Paris',\n",
       "  'Death in Brunswick',\n",
       "  'Pather Panchali'])"
      ]
     },
     "execution_count": 62,
     "metadata": {},
     "output_type": "execute_result"
    }
   ],
   "source": [
    "users_list = user_model.layers[0].get_vocabulary()\n",
    "users_weights = user_model.layers[1].get_weights()[0].astype(np.float32)\n",
    "user_embedding_dict = {x: y for x, y in zip(users_list, users_weights)}\n",
    "user_id = users_list[100] # the 101th user_id \n",
    "\n",
    "results_top_k, results_k_diversified_no_qi =  retrieval(10, user_id, user_embedding_dict, use_qi=False)\n",
    "results_top_k, results_k_diversified_no_qi"
   ]
  },
  {
   "cell_type": "code",
   "execution_count": 63,
   "metadata": {},
   "outputs": [
    {
     "data": {
      "image/png": "[encoded data removed]",
      "text/plain": [
       "<Figure size 800x600 with 1 Axes>"
      ]
     },
     "metadata": {},
     "output_type": "display_data"
    }
   ],
   "source": [
    "plot_two_sets_of_recos(results_top_k,results_k_diversified_no_qi, X_2d)"
   ]
  },
  {
   "cell_type": "code",
   "execution_count": 64,
   "metadata": {},
   "outputs": [
    {
     "name": "stdout",
     "output_type": "stream",
     "text": [
      "The diversified_no_qi recommendations have a volume 1.2565752267837524 bigger than non diversified_no_qi recos\n"
     ]
    }
   ],
   "source": [
    "X_diversified_no_qi = np.stack(df_movies_plots[df_movies_plots.Title.isin(results_k_diversified_no_qi)]['plot_semantic_embedding'].to_numpy())\n",
    "volume_diversified_no_qi = np.linalg.det(X_diversified_no_qi@X_diversified_no_qi.T)\n",
    "\n",
    "X_top_k = np.stack(df_movies_plots[df_movies_plots.Title.isin(results_top_k)]['plot_semantic_embedding'].to_numpy())\n",
    "volume_top_k = np.linalg.det(X_top_k@X_top_k.T)\n",
    "\n",
    "volume_diversified_no_qi, volume_top_k\n",
    "print(f\"The diversified_no_qi recommendations have a volume {volume_diversified_no_qi/volume_top_k} bigger than non diversified_no_qi recos\")"
   ]
  }
 ],
 "metadata": {
  "kernelspec": {
   "display_name": ".venv",
   "language": "python",
   "name": "python3"
  },
  "language_info": {
   "codemirror_mode": {
    "name": "ipython",
    "version": 3
   },
   "file_extension": ".py",
   "mimetype": "text/x-python",
   "name": "python",
   "nbconvert_exporter": "python",
   "pygments_lexer": "ipython3",
   "version": "3.10.15"
  }
 },
 "nbformat": 4,
 "nbformat_minor": 2
}
